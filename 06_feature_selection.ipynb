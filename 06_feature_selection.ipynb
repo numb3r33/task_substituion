{
 "cells": [
  {
   "cell_type": "code",
   "execution_count": null,
   "metadata": {},
   "outputs": [],
   "source": [
    "#hide\n",
    "%reload_ext autoreload\n",
    "%autoreload 2"
   ]
  },
  {
   "cell_type": "code",
   "execution_count": null,
   "metadata": {},
   "outputs": [],
   "source": [
    "#export\n",
    "import pandas as pd\n",
    "import numpy as np\n",
    "\n",
    "from typing import List, Dict\n",
    "from sklearn.datasets import load_boston\n",
    "\n",
    "from task_substitution.core import *\n",
    "from task_substitution.data import *\n",
    "from task_substitution.model import *\n",
    "from task_substitution.external_data import *"
   ]
  },
  {
   "cell_type": "code",
   "execution_count": null,
   "metadata": {},
   "outputs": [],
   "source": [
    "# default_exp feature_selection"
   ]
  },
  {
   "cell_type": "markdown",
   "metadata": {},
   "source": [
    "# Feature Selection\n",
    "\n",
    "> Class that would train a `LightGBM` model on a dataset and select set of features that are actually relevant to the task."
   ]
  },
  {
   "cell_type": "code",
   "execution_count": null,
   "metadata": {},
   "outputs": [],
   "source": [
    "#hide\n",
    "from nbdev.showdoc import *"
   ]
  },
  {
   "cell_type": "markdown",
   "metadata": {},
   "source": [
    "### Feature Selection Using Null Importance"
   ]
  },
  {
   "cell_type": "code",
   "execution_count": null,
   "metadata": {},
   "outputs": [],
   "source": [
    "#export\n",
    "class FeatureSelection:\n",
    "    def __init__(self, model_args:Dict, threshold:int=3):\n",
    "        self.model_args = model_args\n",
    "        self.threshold  = threshold\n",
    "    \n",
    "    def train(self, X:pd.DataFrame, y:pd.Series):\n",
    "        model = Model(**self.model_args)\n",
    "        self.trained_model = model.fit(X, y)\n",
    "        return self.trained_model\n",
    "    \n",
    "    def get_feature_importances(self, model, feature_names:List)->pd.DataFrame:\n",
    "        feat_imp = model.feature_importance(importance_type='gain')\n",
    "        feat_df  = pd.DataFrame({'features': feature_names,\n",
    "                                 'imp(gain)': feat_imp\n",
    "                                })\n",
    "        return feat_df\n",
    "    \n",
    "    def get_feature_names(self, X:pd.DataFrame)->List:\n",
    "        return list(sorted(X.columns))\n",
    "    \n",
    "    def add_ratio_gain(self, feat_imp:pd.DataFrame, feat_imp_useless:pd.DataFrame)->pd.DataFrame:\n",
    "        tmp_df = feat_imp.copy()\n",
    "        tmp_df = tmp_df.assign(imp_gain_useless=feat_imp_useless['imp(gain)'].values)\n",
    "        tmp_df = tmp_df.assign(ratio=feat_imp_useless['imp(gain)']/feat_imp['imp(gain)'])\n",
    "        return tmp_df\n",
    "    \n",
    "    def filter_features(self, ratio_df:pd.DataFrame)->List:\n",
    "        return list(ratio_df.loc[(ratio_df.ratio <= self.threshold), 'features'])\n",
    "    \n",
    "    def select_features(self, X:pd.DataFrame, y:pd.Series)->List:\n",
    "        model = self.train(X, y)\n",
    "        \n",
    "        shuffled_y = _shuffle(y.copy())\n",
    "        useless_model = self.train(X, shuffled_y)\n",
    "        \n",
    "        feature_names = self.get_feature_names(X)\n",
    "        feat_imp = self.get_feature_importances(model, feature_names)\n",
    "        feat_imp_useless = self.get_feature_importances(useless_model, feature_names)\n",
    "        \n",
    "        self.ratio_df = self.add_ratio_gain(feat_imp, feat_imp_useless)\n",
    "        selected_features = self.filter_features(self.ratio_df)\n",
    "        \n",
    "        return selected_features"
   ]
  },
  {
   "cell_type": "markdown",
   "metadata": {},
   "source": [
    "### Usage"
   ]
  },
  {
   "cell_type": "code",
   "execution_count": null,
   "metadata": {},
   "outputs": [],
   "source": [
    "data = load_boston()\n",
    "X = pd.DataFrame(data['data'], columns=data['feature_names'])\n",
    "y = pd.Series(data['target'])"
   ]
  },
  {
   "cell_type": "code",
   "execution_count": null,
   "metadata": {},
   "outputs": [
    {
     "name": "stdout",
     "output_type": "stream",
     "text": [
      "Feature list: ['CRIM', 'ZN', 'INDUS', 'CHAS', 'NOX', 'RM', 'AGE', 'DIS', 'RAD', 'TAX', 'PTRATIO', 'B', 'LSTAT']\n",
      "Selected features: ['AGE', 'B', 'CHAS', 'CRIM', 'DIS', 'INDUS', 'LSTAT', 'NOX', 'PTRATIO', 'RAD', 'RM', 'TAX', 'ZN']\n"
     ]
    }
   ],
   "source": [
    "model_args = {\n",
    "    'num_boost_round': 300,\n",
    "    'objective': 'regression',\n",
    "    'learning_rate': 0.1,\n",
    "    'num_leaves': 31,\n",
    "    'nthread': -1,\n",
    "    'verbosity': -1,\n",
    "    'seed': 41\n",
    "}\n",
    "\n",
    "print(f'Feature list: {X.columns.tolist()}')\n",
    "fs = FeatureSelection(model_args)\n",
    "selected_features = fs.select_features(X, y)\n",
    "print(f'Selected features: {selected_features}')"
   ]
  },
  {
   "cell_type": "code",
   "execution_count": null,
   "metadata": {},
   "outputs": [
    {
     "data": {
      "text/html": [
       "<div>\n",
       "<style scoped>\n",
       "    .dataframe tbody tr th:only-of-type {\n",
       "        vertical-align: middle;\n",
       "    }\n",
       "\n",
       "    .dataframe tbody tr th {\n",
       "        vertical-align: top;\n",
       "    }\n",
       "\n",
       "    .dataframe thead th {\n",
       "        text-align: right;\n",
       "    }\n",
       "</style>\n",
       "<table border=\"1\" class=\"dataframe\">\n",
       "  <thead>\n",
       "    <tr style=\"text-align: right;\">\n",
       "      <th></th>\n",
       "      <th>features</th>\n",
       "      <th>imp(gain)</th>\n",
       "      <th>imp_gain_useless</th>\n",
       "      <th>ratio</th>\n",
       "    </tr>\n",
       "  </thead>\n",
       "  <tbody>\n",
       "    <tr>\n",
       "      <th>0</th>\n",
       "      <td>AGE</td>\n",
       "      <td>660</td>\n",
       "      <td>763</td>\n",
       "      <td>1.156061</td>\n",
       "    </tr>\n",
       "    <tr>\n",
       "      <th>1</th>\n",
       "      <td>B</td>\n",
       "      <td>36</td>\n",
       "      <td>50</td>\n",
       "      <td>1.388889</td>\n",
       "    </tr>\n",
       "    <tr>\n",
       "      <th>2</th>\n",
       "      <td>CHAS</td>\n",
       "      <td>175</td>\n",
       "      <td>178</td>\n",
       "      <td>1.017143</td>\n",
       "    </tr>\n",
       "    <tr>\n",
       "      <th>3</th>\n",
       "      <td>CRIM</td>\n",
       "      <td>51</td>\n",
       "      <td>12</td>\n",
       "      <td>0.235294</td>\n",
       "    </tr>\n",
       "    <tr>\n",
       "      <th>4</th>\n",
       "      <td>DIS</td>\n",
       "      <td>369</td>\n",
       "      <td>267</td>\n",
       "      <td>0.723577</td>\n",
       "    </tr>\n",
       "    <tr>\n",
       "      <th>5</th>\n",
       "      <td>INDUS</td>\n",
       "      <td>841</td>\n",
       "      <td>913</td>\n",
       "      <td>1.085612</td>\n",
       "    </tr>\n",
       "    <tr>\n",
       "      <th>6</th>\n",
       "      <td>LSTAT</td>\n",
       "      <td>732</td>\n",
       "      <td>858</td>\n",
       "      <td>1.172131</td>\n",
       "    </tr>\n",
       "    <tr>\n",
       "      <th>7</th>\n",
       "      <td>NOX</td>\n",
       "      <td>854</td>\n",
       "      <td>605</td>\n",
       "      <td>0.708431</td>\n",
       "    </tr>\n",
       "    <tr>\n",
       "      <th>8</th>\n",
       "      <td>PTRATIO</td>\n",
       "      <td>105</td>\n",
       "      <td>70</td>\n",
       "      <td>0.666667</td>\n",
       "    </tr>\n",
       "    <tr>\n",
       "      <th>9</th>\n",
       "      <td>RAD</td>\n",
       "      <td>194</td>\n",
       "      <td>222</td>\n",
       "      <td>1.144330</td>\n",
       "    </tr>\n",
       "    <tr>\n",
       "      <th>10</th>\n",
       "      <td>RM</td>\n",
       "      <td>277</td>\n",
       "      <td>160</td>\n",
       "      <td>0.577617</td>\n",
       "    </tr>\n",
       "    <tr>\n",
       "      <th>11</th>\n",
       "      <td>TAX</td>\n",
       "      <td>583</td>\n",
       "      <td>626</td>\n",
       "      <td>1.073756</td>\n",
       "    </tr>\n",
       "    <tr>\n",
       "      <th>12</th>\n",
       "      <td>ZN</td>\n",
       "      <td>786</td>\n",
       "      <td>911</td>\n",
       "      <td>1.159033</td>\n",
       "    </tr>\n",
       "  </tbody>\n",
       "</table>\n",
       "</div>"
      ],
      "text/plain": [
       "   features  imp(gain)  imp_gain_useless     ratio\n",
       "0       AGE        660               763  1.156061\n",
       "1         B         36                50  1.388889\n",
       "2      CHAS        175               178  1.017143\n",
       "3      CRIM         51                12  0.235294\n",
       "4       DIS        369               267  0.723577\n",
       "5     INDUS        841               913  1.085612\n",
       "6     LSTAT        732               858  1.172131\n",
       "7       NOX        854               605  0.708431\n",
       "8   PTRATIO        105                70  0.666667\n",
       "9       RAD        194               222  1.144330\n",
       "10       RM        277               160  0.577617\n",
       "11      TAX        583               626  1.073756\n",
       "12       ZN        786               911  1.159033"
      ]
     },
     "execution_count": null,
     "metadata": {},
     "output_type": "execute_result"
    }
   ],
   "source": [
    "fs.ratio_df"
   ]
  },
  {
   "cell_type": "code",
   "execution_count": null,
   "metadata": {},
   "outputs": [],
   "source": []
  }
 ],
 "metadata": {
  "kernelspec": {
   "display_name": "ts",
   "language": "python",
   "name": "ts"
  }
 },
 "nbformat": 4,
 "nbformat_minor": 2
}
