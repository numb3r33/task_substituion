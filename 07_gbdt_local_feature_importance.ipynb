{
 "cells": [
  {
   "cell_type": "code",
   "execution_count": null,
   "metadata": {},
   "outputs": [],
   "source": [
    "#hide\n",
    "%reload_ext autoreload\n",
    "%autoreload 2\n",
    "%matplotlib inline"
   ]
  },
  {
   "cell_type": "code",
   "execution_count": null,
   "metadata": {},
   "outputs": [],
   "source": [
    "#hide\n",
    "import matplotlib.pyplot as plt"
   ]
  },
  {
   "cell_type": "code",
   "execution_count": null,
   "metadata": {},
   "outputs": [],
   "source": [
    "#export\n",
    "import pandas as pd\n",
    "import numpy as np\n",
    "\n",
    "import xgboost as xgb\n",
    "from sklearn.datasets import make_regression\n",
    "from sklearn.model_selection import train_test_split"
   ]
  },
  {
   "cell_type": "code",
   "execution_count": null,
   "metadata": {},
   "outputs": [],
   "source": [
    "# default_exp local_feature_importance"
   ]
  },
  {
   "cell_type": "markdown",
   "metadata": {},
   "source": [
    "# TODOs"
   ]
  },
  {
   "cell_type": "markdown",
   "metadata": {},
   "source": [
    "- Add factory class which prepares object for XGBoost and LightGBM.\n",
    "- Add example for classification example."
   ]
  },
  {
   "cell_type": "markdown",
   "metadata": {},
   "source": [
    "# Local Feature Importance\n",
    "\n",
    "> Give GBDT model ( XGBoost or LightGBM ) and a specific instance this class would calculate the relationship of different features with a specific instance."
   ]
  },
  {
   "cell_type": "code",
   "execution_count": null,
   "metadata": {},
   "outputs": [],
   "source": [
    "#hide\n",
    "from nbdev.showdoc import *"
   ]
  },
  {
   "cell_type": "code",
   "execution_count": null,
   "metadata": {},
   "outputs": [],
   "source": [
    "#export\n",
    "class XGBoostLFI:\n",
    "    \"Wrapper around for `XGBoost` models\"\n",
    "    def __init__(self, model):\n",
    "        self.model = model\n",
    "        \n",
    "    def get_tree(self, trees, tree_index):\n",
    "        \"Return tree for a specific index.\"\n",
    "        mask = trees.Tree == tree_index\n",
    "        return trees.loc[mask]\n",
    "    \n",
    "    def get_booster(self): \n",
    "        \"Returns booster.\"\n",
    "        return self.model.get_booster()\n",
    "    \n",
    "    def get_num_trees(self, trees_df): \n",
    "        \"Returns number of number of estimators.\"\n",
    "        return trees_df.Tree.nunique()\n",
    "    \n",
    "    def get_node(self, tree, node_id):\n",
    "        \"Returns a particular node in a tree.\"\n",
    "        mask = tree.ID == node_id\n",
    "        return tree.loc[mask]\n",
    "    \n",
    "    def get_node_index(self, node, branch):\n",
    "        \"Returns index of a particular node in a tree.\"\n",
    "        if branch == 'left': return node['Yes'].values[0]\n",
    "        else: return node['No'].values[0]\n",
    "        \n",
    "    def get_node_id(self, node): \n",
    "        \"Returns id of a particular node in a tree. It is different from a node-index.\"\n",
    "        return node['ID'].values[0]\n",
    "        \n",
    "    def next_node(self, tree, curr_node, branch):\n",
    "        \"Returns next node from a current node based on which sub-branch one wants to navigate.\"\n",
    "        if branch == 'left': return self.get_node(tree, self.get_node_index(curr_node, branch))\n",
    "        else: return self.get_node(tree, self.get_node_index(curr_node, branch))\n",
    "    \n",
    "    def get_split(self, node): \n",
    "        \"Returns split value\"\n",
    "        return node['Split'].values[0]\n",
    "    \n",
    "    def get_feature(self, node): \n",
    "        \"Returns feature that was used to make the split.\"\n",
    "        return node['Feature'].values[0]\n",
    "    \n",
    "    def node_score(self, node): \n",
    "        \"Returns gain for a particular decision node.\"\n",
    "        return node['Gain'].values[0]\n",
    "    \n",
    "    def node_parent_score(self, node): \n",
    "        \"Returns parent score for a particular node\"\n",
    "        return node['Parent_Score'].values[0]\n",
    "    \n",
    "    def node_cover(self, node): \n",
    "        \"Returns how many samples are there in a terminal node.\"\n",
    "        return node['Cover'].values[0]\n",
    "    \n",
    "    def average(self, left_node, right_node):\n",
    "        \"Returns average of scores of children of a node.\"\n",
    "        return (left_node['score'] + right_node['score']) / 2\n",
    "    \n",
    "    def weighted_sum(self, left_node, right_node):\n",
    "        \"Returns weighted average of children of a node.\"\n",
    "        return ((left_node['cover'] * left_node['score'] + right_node['cover'] * right_node['score'])) /\\\n",
    "                (left_node['cover'] + right_node['cover'])\n",
    "    \n",
    "    def propagation_strategy(self, left_node, right_node, strategy='average'):\n",
    "        \"Returns parent score from left and right children. It is based on propagation strategy.\"\n",
    "        if strategy == 'average': return self.average(left_node, right_node)\n",
    "        else: return self.weighted_sum(left_node, right_node)"
   ]
  },
  {
   "cell_type": "code",
   "execution_count": null,
   "metadata": {},
   "outputs": [],
   "source": [
    "#export\n",
    "class LocalFeatureImportance:\n",
    "    \"Calculates `Feature Importance` and provides explanability. It implements (http://www.cs.sjtu.edu.cn/~kzhu/papers/kzhu-infocode.pdf)\"\n",
    "    def __init__(self, model, strategy='average'):\n",
    "        self.strategy = strategy\n",
    "        model_category = self.get_model_category(self.get_model_type(model))\n",
    "        \n",
    "        if model_category == 'xgboost':\n",
    "            self.model = XGBoostLFI(model)\n",
    "    \n",
    "    def trees_to_df(self):\n",
    "        \"Convert internal tree reprensentation to a Pandas DataFrame\"\n",
    "        if self.get_model_type(self.model) == xgb.core.Booster: return self.model.trees_to_dataframe()\n",
    "        else: return self.model.get_booster().trees_to_dataframe()\n",
    "    \n",
    "    def get_model_type(self, model):\n",
    "        return type(model)\n",
    "    \n",
    "    def get_model_category(self, model_type):\n",
    "        if model_type in [xgb.core.Booster, xgb.sklearn.XGBRegressor, xgb.sklearn.XGBClassifier]:\n",
    "            return 'xgboost'\n",
    "        else:\n",
    "            raise ValueError(f'{model_type} is not supported.')\n",
    "    \n",
    "    def make_node(self, node):\n",
    "        \"Create dict representation of a node which contains score and cover based on strategy.\"\n",
    "        if self.strategy == 'average': return {'score': self.model.node_parent_score(node)}\n",
    "        else: return {'score': self.model.node_parent_score(node), 'cover': self.model.node_cover(node)}\n",
    "    \n",
    "    def parse(self, tree, node_id):\n",
    "        \"Calculates and assigns scores for a particular node in the tree.\"\n",
    "        current_node = self.model.get_node(tree, node_id)\n",
    "        \n",
    "        if self.model.get_feature(current_node) == 'Leaf': return self.model.node_score(current_node)\n",
    "        \n",
    "        left_child  = self.model.next_node(tree, current_node, branch='left')\n",
    "        right_child = self.model.next_node(tree, current_node, branch='right')\n",
    "        \n",
    "        left_branch_score = self.parse(tree, self.model.get_node_id(left_child))\n",
    "        tree.loc[tree.ID == left_child.ID.values[0], 'Parent_Score'] = left_branch_score\n",
    "\n",
    "        right_branch_score = self.parse(tree, self.model.get_node_id(right_child))\n",
    "        tree.loc[tree.ID == right_child.ID.values[0], 'Parent_Score'] = right_branch_score\n",
    "        \n",
    "        root_score = self.model.propagation_strategy(self.make_node(self.model.get_node(tree,\n",
    "                                                                                self.model.get_node_index(current_node, branch='left')\n",
    "                                                                               )),\n",
    "                                                     self.make_node(self.model.get_node(tree,\n",
    "                                                                                    self.model.get_node_index(current_node, branch='right')\n",
    "                                                                               )))\n",
    "        \n",
    "        tree.loc[tree.ID == current_node.ID.values[0], 'Parent_Score'] = root_score\n",
    "        return root_score\n",
    "        \n",
    "    def propagate_scores(self):\n",
    "        \"Parse and calculates scores for all nodes for all trees.\"\n",
    "        trees_df = self.trees_to_df()\n",
    "        parsed_trees = []\n",
    "        num_trees = self.model.get_num_trees(trees_df)\n",
    "        \n",
    "        for tree_index in range(num_trees):\n",
    "            tree = self.model.get_tree(trees_df, tree_index)\n",
    "            self.parse(tree, f'{tree_index}-0')\n",
    "            parsed_trees.append(tree)\n",
    "        \n",
    "        return pd.concat(parsed_trees, axis=0)\n",
    "    \n",
    "    def split_decision(self, feature, split_value):\n",
    "        \"How to decide whether to go left or right in a tree.\"\n",
    "        if pd.isnull(feature): return True\n",
    "        elif feature <= split_value: return True\n",
    "        else: return False\n",
    "    \n",
    "    def walk(self, tree, node_id, test, feature_contribution):\n",
    "        \"Walks through the tree for a specific instance and returns relationship between features and instance.\"\n",
    "        current_node = self.model.get_node(tree, node_id)\n",
    "        feature = self.model.get_feature(current_node)\n",
    "        \n",
    "        if feature == 'Leaf': return\n",
    "\n",
    "        if self.split_decision(test[feature].values[0], self.model.get_split(current_node)):\n",
    "            left_child = self.model.next_node(tree, current_node, branch='left')\n",
    "            \n",
    "            t = self.model.node_parent_score(left_child) - self.model.node_parent_score(current_node)\n",
    "            feature_contribution[feature].append(t)\n",
    "            self.walk(tree, self.model.get_node_id(left_child), test, feature_contribution)\n",
    "        else:\n",
    "            right_child = self.model.next_node(tree, current_node, branch='right')\n",
    "            \n",
    "            t = self.model.node_parent_score(right_child) - self.model.node_parent_score(current_node)\n",
    "            feature_contribution[feature].append(t)\n",
    "            self.walk(tree, self.model.get_node_id(right_child), test, feature_contribution)\n",
    "            \n",
    "        return feature_contribution\n",
    "    \n",
    "    def index_to_feat(self, feats):\n",
    "        \"Maps indices to features.\"\n",
    "        return {i:f for i, f in enumerate(feats)}\n",
    "    \n",
    "    def get_fi(self, trees, x_test):\n",
    "        \"Calculates feature importance by aggregating over all samples over all trees.\"\n",
    "        itof = self.index_to_feat(x_test.columns.tolist())\n",
    "        fc_over_sample = np.zeros(shape=(x_test.shape[1], x_test.shape[0]))\n",
    "        \n",
    "        for index in range(x_test.shape[0]):\n",
    "            num_trees = self.model.get_num_trees(trees)\n",
    "            contribution = defaultdict(int)\n",
    "                \n",
    "            for tree_index in range(num_trees):\n",
    "                feature_contribution = defaultdict(list)\n",
    "                tree = self.model.get_tree(trees, tree_index)\n",
    "                \n",
    "                fc = self.walk(tree, f'{tree_index}-0', x_test[index:index+1], feature_contribution)\n",
    "                \n",
    "                for f, l in fc.items():\n",
    "                    contribution[f] += (np.sum(l) / num_trees)\n",
    "            \n",
    "            fc_over_sample[:, index] = np.array([contribution[itof[i]] if itof[i] in contribution else 0 for i in range(x_test.shape[1])])\n",
    "        \n",
    "        fc_overall = np.apply_along_axis(np.median, axis=1, arr=fc_over_sample)\n",
    "        return pd.DataFrame({'feature': x_test.columns.tolist(), 'importance': fc_overall})"
   ]
  },
  {
   "cell_type": "markdown",
   "metadata": {},
   "source": [
    "## Usage"
   ]
  },
  {
   "cell_type": "code",
   "execution_count": null,
   "metadata": {},
   "outputs": [],
   "source": [
    "x,y = make_regression(n_samples=1000,n_features=6,n_informative=3)\n",
    "xtr, xval, ytr, yval = train_test_split(x, y, test_size=0.5, random_state=41)"
   ]
  },
  {
   "cell_type": "code",
   "execution_count": null,
   "metadata": {},
   "outputs": [
    {
     "data": {
      "text/plain": [
       "XGBRegressor(base_score=0.5, booster='gbtree', colsample_bylevel=1,\n",
       "             colsample_bynode=1, colsample_bytree=1, gamma=0,\n",
       "             importance_type='gain', learning_rate=0.1, max_delta_step=0,\n",
       "             max_depth=4, min_child_weight=1, missing=None, n_estimators=10,\n",
       "             n_jobs=1, nthread=None, objective='reg:squarederror',\n",
       "             random_state=0, reg_alpha=0, reg_lambda=1, scale_pos_weight=1,\n",
       "             seed=None, silent=None, subsample=1, verbosity=1)"
      ]
     },
     "execution_count": null,
     "metadata": {},
     "output_type": "execute_result"
    }
   ],
   "source": [
    "model = xgb.XGBRegressor(objective='reg:squarederror', n_estimators=10, max_depth=4)\n",
    "model.fit(xtr,ytr)"
   ]
  },
  {
   "cell_type": "code",
   "execution_count": null,
   "metadata": {},
   "outputs": [
    {
     "data": {
      "image/png": "[encoded data removed]",
      "text/plain": [
       "<Figure size 1152x720 with 1 Axes>"
      ]
     },
     "metadata": {
      "needs_background": "light"
     },
     "output_type": "display_data"
    }
   ],
   "source": [
    "fig, ax = plt.subplots(1, figsize=(16, 10))\n",
    "xgb.plot_importance(model, importance_type='gain', ax=ax);"
   ]
  },
  {
   "cell_type": "code",
   "execution_count": null,
   "metadata": {},
   "outputs": [],
   "source": [
    "lfi     = LocalFeatureImportance(model)\n",
    "scores  = lfi.propagate_scores()"
   ]
  },
  {
   "cell_type": "code",
   "execution_count": null,
   "metadata": {},
   "outputs": [
    {
     "data": {
      "text/html": [
       "<div>\n",
       "<style scoped>\n",
       "    .dataframe tbody tr th:only-of-type {\n",
       "        vertical-align: middle;\n",
       "    }\n",
       "\n",
       "    .dataframe tbody tr th {\n",
       "        vertical-align: top;\n",
       "    }\n",
       "\n",
       "    .dataframe thead th {\n",
       "        text-align: right;\n",
       "    }\n",
       "</style>\n",
       "<table border=\"1\" class=\"dataframe\">\n",
       "  <thead>\n",
       "    <tr style=\"text-align: right;\">\n",
       "      <th></th>\n",
       "      <th>Tree</th>\n",
       "      <th>Node</th>\n",
       "      <th>ID</th>\n",
       "      <th>Feature</th>\n",
       "      <th>Split</th>\n",
       "      <th>Yes</th>\n",
       "      <th>No</th>\n",
       "      <th>Missing</th>\n",
       "      <th>Gain</th>\n",
       "      <th>Cover</th>\n",
       "      <th>Parent_Score</th>\n",
       "    </tr>\n",
       "  </thead>\n",
       "  <tbody>\n",
       "    <tr>\n",
       "      <th>0</th>\n",
       "      <td>0</td>\n",
       "      <td>0</td>\n",
       "      <td>0-0</td>\n",
       "      <td>f0</td>\n",
       "      <td>-0.159498</td>\n",
       "      <td>0-1</td>\n",
       "      <td>0-2</td>\n",
       "      <td>0-1</td>\n",
       "      <td>2241794.750</td>\n",
       "      <td>500.0</td>\n",
       "      <td>-1.365281</td>\n",
       "    </tr>\n",
       "    <tr>\n",
       "      <th>1</th>\n",
       "      <td>0</td>\n",
       "      <td>1</td>\n",
       "      <td>0-1</td>\n",
       "      <td>f0</td>\n",
       "      <td>-1.221669</td>\n",
       "      <td>0-3</td>\n",
       "      <td>0-4</td>\n",
       "      <td>0-3</td>\n",
       "      <td>273895.750</td>\n",
       "      <td>216.0</td>\n",
       "      <td>-8.216369</td>\n",
       "    </tr>\n",
       "    <tr>\n",
       "      <th>2</th>\n",
       "      <td>0</td>\n",
       "      <td>2</td>\n",
       "      <td>0-2</td>\n",
       "      <td>f0</td>\n",
       "      <td>0.769237</td>\n",
       "      <td>0-5</td>\n",
       "      <td>0-6</td>\n",
       "      <td>0-5</td>\n",
       "      <td>611977.812</td>\n",
       "      <td>284.0</td>\n",
       "      <td>5.485807</td>\n",
       "    </tr>\n",
       "    <tr>\n",
       "      <th>3</th>\n",
       "      <td>0</td>\n",
       "      <td>3</td>\n",
       "      <td>0-3</td>\n",
       "      <td>f3</td>\n",
       "      <td>0.496709</td>\n",
       "      <td>0-7</td>\n",
       "      <td>0-8</td>\n",
       "      <td>0-7</td>\n",
       "      <td>48393.500</td>\n",
       "      <td>60.0</td>\n",
       "      <td>-11.909896</td>\n",
       "    </tr>\n",
       "    <tr>\n",
       "      <th>4</th>\n",
       "      <td>0</td>\n",
       "      <td>4</td>\n",
       "      <td>0-4</td>\n",
       "      <td>f3</td>\n",
       "      <td>-0.085148</td>\n",
       "      <td>0-9</td>\n",
       "      <td>0-10</td>\n",
       "      <td>0-9</td>\n",
       "      <td>229686.094</td>\n",
       "      <td>156.0</td>\n",
       "      <td>-4.522841</td>\n",
       "    </tr>\n",
       "  </tbody>\n",
       "</table>\n",
       "</div>"
      ],
      "text/plain": [
       "   Tree  Node   ID Feature     Split  Yes    No Missing         Gain  Cover  \\\n",
       "0     0     0  0-0      f0 -0.159498  0-1   0-2     0-1  2241794.750  500.0   \n",
       "1     0     1  0-1      f0 -1.221669  0-3   0-4     0-3   273895.750  216.0   \n",
       "2     0     2  0-2      f0  0.769237  0-5   0-6     0-5   611977.812  284.0   \n",
       "3     0     3  0-3      f3  0.496709  0-7   0-8     0-7    48393.500   60.0   \n",
       "4     0     4  0-4      f3 -0.085148  0-9  0-10     0-9   229686.094  156.0   \n",
       "\n",
       "   Parent_Score  \n",
       "0     -1.365281  \n",
       "1     -8.216369  \n",
       "2      5.485807  \n",
       "3    -11.909896  \n",
       "4     -4.522841  "
      ]
     },
     "execution_count": null,
     "metadata": {},
     "output_type": "execute_result"
    }
   ],
   "source": [
    "scores.head()"
   ]
  },
  {
   "cell_type": "markdown",
   "metadata": {},
   "source": [
    "**Sample instance**"
   ]
  },
  {
   "cell_type": "code",
   "execution_count": null,
   "metadata": {},
   "outputs": [
    {
     "data": {
      "text/html": [
       "<div>\n",
       "<style scoped>\n",
       "    .dataframe tbody tr th:only-of-type {\n",
       "        vertical-align: middle;\n",
       "    }\n",
       "\n",
       "    .dataframe tbody tr th {\n",
       "        vertical-align: top;\n",
       "    }\n",
       "\n",
       "    .dataframe thead th {\n",
       "        text-align: right;\n",
       "    }\n",
       "</style>\n",
       "<table border=\"1\" class=\"dataframe\">\n",
       "  <thead>\n",
       "    <tr style=\"text-align: right;\">\n",
       "      <th></th>\n",
       "      <th>f0</th>\n",
       "      <th>f1</th>\n",
       "      <th>f2</th>\n",
       "      <th>f3</th>\n",
       "      <th>f4</th>\n",
       "      <th>f5</th>\n",
       "    </tr>\n",
       "  </thead>\n",
       "  <tbody>\n",
       "    <tr>\n",
       "      <th>0</th>\n",
       "      <td>-1.888674</td>\n",
       "      <td>-1.892477</td>\n",
       "      <td>-2.43059</td>\n",
       "      <td>-1.566565</td>\n",
       "      <td>-0.013852</td>\n",
       "      <td>0.978406</td>\n",
       "    </tr>\n",
       "  </tbody>\n",
       "</table>\n",
       "</div>"
      ],
      "text/plain": [
       "         f0        f1       f2        f3        f4        f5\n",
       "0 -1.888674 -1.892477 -2.43059 -1.566565 -0.013852  0.978406"
      ]
     },
     "execution_count": null,
     "metadata": {},
     "output_type": "execute_result"
    }
   ],
   "source": [
    "si = pd.DataFrame(xval[5:6, :], columns=['f0', 'f1', 'f2', 'f3', 'f4', 'f5']); si"
   ]
  },
  {
   "cell_type": "code",
   "execution_count": null,
   "metadata": {},
   "outputs": [
    {
     "data": {
      "text/plain": [
       "array([-115.28766], dtype=float32)"
      ]
     },
     "execution_count": null,
     "metadata": {},
     "output_type": "execute_result"
    }
   ],
   "source": [
    "model.predict(si)"
   ]
  },
  {
   "cell_type": "code",
   "execution_count": null,
   "metadata": {},
   "outputs": [],
   "source": [
    "fc = lfi.get_fi(scores, si)"
   ]
  },
  {
   "cell_type": "code",
   "execution_count": null,
   "metadata": {},
   "outputs": [
    {
     "data": {
      "text/html": [
       "<div>\n",
       "<style scoped>\n",
       "    .dataframe tbody tr th:only-of-type {\n",
       "        vertical-align: middle;\n",
       "    }\n",
       "\n",
       "    .dataframe tbody tr th {\n",
       "        vertical-align: top;\n",
       "    }\n",
       "\n",
       "    .dataframe thead th {\n",
       "        text-align: right;\n",
       "    }\n",
       "</style>\n",
       "<table border=\"1\" class=\"dataframe\">\n",
       "  <thead>\n",
       "    <tr style=\"text-align: right;\">\n",
       "      <th></th>\n",
       "      <th>feature</th>\n",
       "      <th>importance</th>\n",
       "    </tr>\n",
       "  </thead>\n",
       "  <tbody>\n",
       "    <tr>\n",
       "      <th>0</th>\n",
       "      <td>f0</td>\n",
       "      <td>-8.063674</td>\n",
       "    </tr>\n",
       "    <tr>\n",
       "      <th>1</th>\n",
       "      <td>f1</td>\n",
       "      <td>0.000000</td>\n",
       "    </tr>\n",
       "    <tr>\n",
       "      <th>2</th>\n",
       "      <td>f2</td>\n",
       "      <td>0.000000</td>\n",
       "    </tr>\n",
       "    <tr>\n",
       "      <th>3</th>\n",
       "      <td>f3</td>\n",
       "      <td>-2.469592</td>\n",
       "    </tr>\n",
       "    <tr>\n",
       "      <th>4</th>\n",
       "      <td>f4</td>\n",
       "      <td>-0.448579</td>\n",
       "    </tr>\n",
       "    <tr>\n",
       "      <th>5</th>\n",
       "      <td>f5</td>\n",
       "      <td>-0.596409</td>\n",
       "    </tr>\n",
       "  </tbody>\n",
       "</table>\n",
       "</div>"
      ],
      "text/plain": [
       "  feature  importance\n",
       "0      f0   -8.063674\n",
       "1      f1    0.000000\n",
       "2      f2    0.000000\n",
       "3      f3   -2.469592\n",
       "4      f4   -0.448579\n",
       "5      f5   -0.596409"
      ]
     },
     "execution_count": null,
     "metadata": {},
     "output_type": "execute_result"
    }
   ],
   "source": [
    "fc"
   ]
  },
  {
   "cell_type": "markdown",
   "metadata": {},
   "source": [
    "### Compare with global feature importance"
   ]
  },
  {
   "cell_type": "code",
   "execution_count": null,
   "metadata": {},
   "outputs": [],
   "source": [
    "x,y = make_regression(n_samples=1000,n_features=6,n_informative=3)\n",
    "xtr, xval, ytr, yval = train_test_split(x, y, test_size=0.5, random_state=41)"
   ]
  },
  {
   "cell_type": "code",
   "execution_count": null,
   "metadata": {},
   "outputs": [
    {
     "data": {
      "text/plain": [
       "XGBRegressor(base_score=0.5, booster='gbtree', colsample_bylevel=1,\n",
       "             colsample_bynode=1, colsample_bytree=1, gamma=0,\n",
       "             importance_type='gain', learning_rate=0.1, max_delta_step=0,\n",
       "             max_depth=2, min_child_weight=1, missing=None, n_estimators=50,\n",
       "             n_jobs=1, nthread=None, objective='reg:squarederror',\n",
       "             random_state=0, reg_alpha=0, reg_lambda=1, scale_pos_weight=1,\n",
       "             seed=None, silent=None, subsample=1, verbosity=1)"
      ]
     },
     "execution_count": null,
     "metadata": {},
     "output_type": "execute_result"
    }
   ],
   "source": [
    "model = xgb.XGBRegressor(objective='reg:squarederror', n_estimators=50, max_depth=2)\n",
    "model.fit(xtr,ytr)"
   ]
  },
  {
   "cell_type": "code",
   "execution_count": null,
   "metadata": {},
   "outputs": [
    {
     "data": {
      "image/png": "[encoded data removed]",
      "text/plain": [
       "<Figure size 1152x720 with 1 Axes>"
      ]
     },
     "metadata": {
      "needs_background": "light"
     },
     "output_type": "display_data"
    }
   ],
   "source": [
    "fig, ax = plt.subplots(1, figsize=(16, 10))\n",
    "xgb.plot_importance(model, importance_type='gain', ax=ax);"
   ]
  },
  {
   "cell_type": "code",
   "execution_count": null,
   "metadata": {},
   "outputs": [],
   "source": [
    "lfi     = LocalFeatureImportance(model)\n",
    "scores  = lfi.propagate_scores()"
   ]
  },
  {
   "cell_type": "code",
   "execution_count": null,
   "metadata": {},
   "outputs": [],
   "source": [
    "fc = lfi.get_fi(scores, pd.DataFrame(xval, columns=[f'f{i}' for i in range(6)]))"
   ]
  },
  {
   "cell_type": "code",
   "execution_count": null,
   "metadata": {},
   "outputs": [
    {
     "data": {
      "image/png": "[encoded data removed]",
      "text/plain": [
       "<Figure size 1152x720 with 1 Axes>"
      ]
     },
     "metadata": {
      "needs_background": "light"
     },
     "output_type": "display_data"
    }
   ],
   "source": [
    "fig, ax = plt.subplots(1, figsize=(16, 10))\n",
    "\n",
    "fc.reindex(fc.importance.abs().sort_values(ascending=True).index).set_index('feature')['importance']\\\n",
    "  .map(np.abs).plot(kind='barh', ax=ax)\n",
    "plt.ylabel('Feature Contribution');"
   ]
  }
 ],
 "metadata": {
  "kernelspec": {
   "display_name": "ts",
   "language": "python",
   "name": "ts"
  }
 },
 "nbformat": 4,
 "nbformat_minor": 2
}
