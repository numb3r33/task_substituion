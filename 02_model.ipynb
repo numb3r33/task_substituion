{
 "cells": [
  {
   "cell_type": "code",
   "execution_count": null,
   "metadata": {},
   "outputs": [],
   "source": [
    "#hide\n",
    "%load_ext autoreload\n",
    "%autoreload 2"
   ]
  },
  {
   "cell_type": "code",
   "execution_count": null,
   "metadata": {},
   "outputs": [],
   "source": [
    "# default_exp model\n",
    "# default_cls_lvl 3"
   ]
  },
  {
   "cell_type": "code",
   "execution_count": null,
   "metadata": {},
   "outputs": [],
   "source": [
    "#export\n",
    "import pandas as pd\n",
    "import numpy as np\n",
    "import string\n",
    "\n",
    "import lightgbm as lgb\n",
    "from sklearn.model_selection import KFold"
   ]
  },
  {
   "cell_type": "markdown",
   "metadata": {},
   "source": [
    "# module name here\n",
    "\n",
    "> API details."
   ]
  },
  {
   "cell_type": "code",
   "execution_count": null,
   "metadata": {},
   "outputs": [],
   "source": [
    "#hide\n",
    "from nbdev.showdoc import *"
   ]
  },
  {
   "cell_type": "markdown",
   "metadata": {},
   "source": [
    "### Model Class"
   ]
  },
  {
   "cell_type": "code",
   "execution_count": null,
   "metadata": {},
   "outputs": [],
   "source": [
    "#export\n",
    "class Model:\n",
    "    def __init__(self, **model_kwargs):\n",
    "        self.params = model_kwargs\n",
    "        self.num_boost_round = self.params['num_boost_round']\n",
    "        \n",
    "        # remove num estimators key from the model parameters\n",
    "        del self.params['num_boost_round']\n",
    "    \n",
    "    def fit(self, X:pd.DataFrame, y:pd.Series):\n",
    "        ltrain = lgb.Dataset(X, y)\n",
    "        self.model  = lgb.train(self.params, ltrain, self.num_boost_round)\n",
    "        \n",
    "        return self.model\n",
    "    \n",
    "    def cv(self, X:pd.DataFrame, y:pd.Series, perf_fn, **cv_params)->np.ndarray:\n",
    "        kf = KFold(**cv_params)\n",
    "        fold_perfs = []\n",
    "        \n",
    "        for index, (itr, ite) in enumerate(kf.split(X)):\n",
    "            print(f'Fold: {index}')\n",
    "            \n",
    "            Xtr, ytr   = X.iloc[itr], y.iloc[itr]\n",
    "            Xval, yval = X.iloc[ite], y.iloc[ite]\n",
    "        \n",
    "            ltrain = lgb.Dataset(Xtr, ytr)\n",
    "            \n",
    "            model = lgb.train(self.params, ltrain, self.num_boost_round)\n",
    "            preds = model.predict(Xval)\n",
    "            \n",
    "            fold_perf = perf_fn(yval, preds)\n",
    "            print(f'Performance: {fold_perf}')\n",
    "            \n",
    "            fold_perfs.append(fold_perf)\n",
    "        \n",
    "        print(f'Mean performance: {np.mean(fold_perfs)}, Std performance: {np.std(fold_perfs)}')\n",
    "        \n",
    "        return np.array(fold_perfs)\n",
    "    \n",
    "    def predict(self, Xtest)->np.ndarray:\n",
    "        preds = self.model.predict(Xtest)\n",
    "        \n",
    "        return np.array(preds)"
   ]
  },
  {
   "cell_type": "markdown",
   "metadata": {},
   "source": [
    "### Tests"
   ]
  },
  {
   "cell_type": "code",
   "execution_count": null,
   "metadata": {},
   "outputs": [
    {
     "data": {
      "text/html": [
       "<div>\n",
       "<style scoped>\n",
       "    .dataframe tbody tr th:only-of-type {\n",
       "        vertical-align: middle;\n",
       "    }\n",
       "\n",
       "    .dataframe tbody tr th {\n",
       "        vertical-align: top;\n",
       "    }\n",
       "\n",
       "    .dataframe thead th {\n",
       "        text-align: right;\n",
       "    }\n",
       "</style>\n",
       "<table border=\"1\" class=\"dataframe\">\n",
       "  <thead>\n",
       "    <tr style=\"text-align: right;\">\n",
       "      <th></th>\n",
       "      <th>c1</th>\n",
       "      <th>c2</th>\n",
       "      <th>c3</th>\n",
       "    </tr>\n",
       "  </thead>\n",
       "  <tbody>\n",
       "    <tr>\n",
       "      <th>0</th>\n",
       "      <td>0.469413</td>\n",
       "      <td>d</td>\n",
       "      <td>0.411662</td>\n",
       "    </tr>\n",
       "    <tr>\n",
       "      <th>1</th>\n",
       "      <td>0.838573</td>\n",
       "      <td>r</td>\n",
       "      <td>0.733036</td>\n",
       "    </tr>\n",
       "    <tr>\n",
       "      <th>2</th>\n",
       "      <td>0.488017</td>\n",
       "      <td>m</td>\n",
       "      <td>0.314077</td>\n",
       "    </tr>\n",
       "    <tr>\n",
       "      <th>3</th>\n",
       "      <td>0.604134</td>\n",
       "      <td>i</td>\n",
       "      <td>0.561229</td>\n",
       "    </tr>\n",
       "    <tr>\n",
       "      <th>4</th>\n",
       "      <td>0.825278</td>\n",
       "      <td>f</td>\n",
       "      <td>0.848442</td>\n",
       "    </tr>\n",
       "  </tbody>\n",
       "</table>\n",
       "</div>"
      ],
      "text/plain": [
       "         c1 c2        c3\n",
       "0  0.469413  d  0.411662\n",
       "1  0.838573  r  0.733036\n",
       "2  0.488017  m  0.314077\n",
       "3  0.604134  i  0.561229\n",
       "4  0.825278  f  0.848442"
      ]
     },
     "execution_count": null,
     "metadata": {},
     "output_type": "execute_result"
    }
   ],
   "source": [
    "SIZE = 10000\n",
    "NUM_NANS = 500\n",
    "example_df = pd.DataFrame({'c1': np.random.rand(SIZE, ),\n",
    "                           'c2': [string.ascii_lowercase[np.random.randint(low=0, high=26)] for i in range(SIZE)],\n",
    "                           'c3': np.random.permutation([np.nan] * NUM_NANS + list(np.random.rand(SIZE - NUM_NANS, )))\n",
    "                          })\n",
    "example_df.head()"
   ]
  },
  {
   "cell_type": "code",
   "execution_count": null,
   "metadata": {},
   "outputs": [],
   "source": [
    "from task_substitution.data import *\n",
    "\n",
    "data = Dataset(example_df, target_fld='c3', cat_flds=['c2'], ignore_flds=None)\n",
    "proc_example_df = data.preprocess()\n",
    "\n",
    "train, test = Dataset.split_train_test_by_null(proc_example_df, target_fld='c3')"
   ]
  },
  {
   "cell_type": "code",
   "execution_count": null,
   "metadata": {},
   "outputs": [
    {
     "name": "stdout",
     "output_type": "stream",
     "text": [
      "Fold: 0\n",
      "Performance: 0.2946840645608396\n",
      "Fold: 1\n",
      "Performance: 0.2915428769528317\n",
      "Fold: 2\n",
      "Performance: 0.29702084006365137\n",
      "Fold: 3\n",
      "Performance: 0.29641157363445336\n",
      "Fold: 4\n",
      "Performance: 0.29617771921325436\n",
      "Mean performance: 0.2951674148850061, Std performance: 0.001968488429225961\n"
     ]
    },
    {
     "data": {
      "text/plain": [
       "array([0.29468406, 0.29154288, 0.29702084, 0.29641157, 0.29617772])"
      ]
     },
     "execution_count": null,
     "metadata": {},
     "output_type": "execute_result"
    }
   ],
   "source": [
    "from sklearn.metrics import mean_squared_error\n",
    "\n",
    "params = {'num_boost_round': 100,\n",
    "          'objective': 'regression',\n",
    "          'num_leaves': 31,\n",
    "          'seed': 41\n",
    "         }\n",
    "\n",
    "model = Model(**params)\n",
    "\n",
    "y_train = train['c3']\n",
    "X_train = train.drop('c3', axis=1)\n",
    "\n",
    "X_valid = test.drop('c3', axis=1)\n",
    "\n",
    "cv_params = {'n_splits': 5,\n",
    "             'shuffle': True,\n",
    "             'random_state': True\n",
    "            }\n",
    "\n",
    "perf_fn = lambda tr, pe: np.sqrt(mean_squared_error(tr, pe))\n",
    "\n",
    "model.cv(X_train, y_train, perf_fn, **cv_params)"
   ]
  },
  {
   "cell_type": "code",
   "execution_count": null,
   "metadata": {},
   "outputs": [
    {
     "data": {
      "text/html": [
       "<div>\n",
       "<style scoped>\n",
       "    .dataframe tbody tr th:only-of-type {\n",
       "        vertical-align: middle;\n",
       "    }\n",
       "\n",
       "    .dataframe tbody tr th {\n",
       "        vertical-align: top;\n",
       "    }\n",
       "\n",
       "    .dataframe thead th {\n",
       "        text-align: right;\n",
       "    }\n",
       "</style>\n",
       "<table border=\"1\" class=\"dataframe\">\n",
       "  <thead>\n",
       "    <tr style=\"text-align: right;\">\n",
       "      <th></th>\n",
       "      <th>c1</th>\n",
       "      <th>c2</th>\n",
       "      <th>c3</th>\n",
       "      <th>c4</th>\n",
       "    </tr>\n",
       "  </thead>\n",
       "  <tbody>\n",
       "    <tr>\n",
       "      <th>0</th>\n",
       "      <td>0.353357</td>\n",
       "      <td>z</td>\n",
       "      <td>j</td>\n",
       "      <td>0.027331</td>\n",
       "    </tr>\n",
       "    <tr>\n",
       "      <th>1</th>\n",
       "      <td>0.119745</td>\n",
       "      <td>y</td>\n",
       "      <td>y</td>\n",
       "      <td>0.990997</td>\n",
       "    </tr>\n",
       "    <tr>\n",
       "      <th>2</th>\n",
       "      <td>0.479214</td>\n",
       "      <td>m</td>\n",
       "      <td>s</td>\n",
       "      <td>0.623446</td>\n",
       "    </tr>\n",
       "    <tr>\n",
       "      <th>3</th>\n",
       "      <td>0.585346</td>\n",
       "      <td>u</td>\n",
       "      <td>q</td>\n",
       "      <td>0.466293</td>\n",
       "    </tr>\n",
       "    <tr>\n",
       "      <th>4</th>\n",
       "      <td>0.853478</td>\n",
       "      <td>s</td>\n",
       "      <td>b</td>\n",
       "      <td>0.904931</td>\n",
       "    </tr>\n",
       "  </tbody>\n",
       "</table>\n",
       "</div>"
      ],
      "text/plain": [
       "         c1 c2 c3        c4\n",
       "0  0.353357  z  j  0.027331\n",
       "1  0.119745  y  y  0.990997\n",
       "2  0.479214  m  s  0.623446\n",
       "3  0.585346  u  q  0.466293\n",
       "4  0.853478  s  b  0.904931"
      ]
     },
     "execution_count": null,
     "metadata": {},
     "output_type": "execute_result"
    }
   ],
   "source": [
    "SIZE = 10000\n",
    "NUM_NANS = 500\n",
    "example_df = pd.DataFrame({'c1': np.random.rand(SIZE, ),\n",
    "                           'c2': [string.ascii_lowercase[np.random.randint(low=0, high=26)] for i in range(SIZE)],\n",
    "                           'c3': [string.ascii_lowercase[np.random.randint(low=0, high=26)] for i in range(SIZE)],\n",
    "                           'c4': np.random.permutation([np.nan] * NUM_NANS + list(np.random.rand(SIZE - NUM_NANS, )))\n",
    "                          })\n",
    "example_df.head()"
   ]
  },
  {
   "cell_type": "code",
   "execution_count": null,
   "metadata": {},
   "outputs": [],
   "source": [
    "data = Dataset(example_df, target_fld='c4', cat_flds=['c2', 'c3'], ignore_flds=None)\n",
    "proc_example_df = data.preprocess()\n",
    "\n",
    "train, test = Dataset.split_train_test_by_null(proc_example_df, target_fld='c4')"
   ]
  },
  {
   "cell_type": "code",
   "execution_count": null,
   "metadata": {},
   "outputs": [
    {
     "name": "stdout",
     "output_type": "stream",
     "text": [
      "Fold: 0\n",
      "Performance: 0.2918221725273733\n",
      "Fold: 1\n",
      "Performance: 0.2944654447182648\n",
      "Fold: 2\n",
      "Performance: 0.29020677281091695\n",
      "Fold: 3\n",
      "Performance: 0.294588152920383\n",
      "Fold: 4\n",
      "Performance: 0.2929651161128992\n",
      "Mean performance: 0.2928095318179675, Std performance: 0.0016540241745309258\n"
     ]
    },
    {
     "data": {
      "text/plain": [
       "array([0.29182217, 0.29446544, 0.29020677, 0.29458815, 0.29296512])"
      ]
     },
     "execution_count": null,
     "metadata": {},
     "output_type": "execute_result"
    }
   ],
   "source": [
    "params = {'num_boost_round': 100,\n",
    "          'objective': 'regression',\n",
    "          'num_leaves': 31,\n",
    "          'seed': 41\n",
    "         }\n",
    "\n",
    "model = Model(**params)\n",
    "\n",
    "y_train = train['c4']\n",
    "X_train = train.drop('c4', axis=1)\n",
    "\n",
    "X_valid = test.drop('c4', axis=1)\n",
    "\n",
    "cv_params = {'n_splits': 5,\n",
    "             'shuffle': True,\n",
    "             'random_state': True\n",
    "            }\n",
    "\n",
    "perf_fn = lambda tr, pe: np.sqrt(mean_squared_error(tr, pe))\n",
    "\n",
    "model.cv(X_train, y_train, perf_fn, **cv_params)"
   ]
  },
  {
   "cell_type": "code",
   "execution_count": null,
   "metadata": {},
   "outputs": [],
   "source": []
  }
 ],
 "metadata": {
  "kernelspec": {
   "display_name": "ts",
   "language": "python",
   "name": "ts"
  }
 },
 "nbformat": 4,
 "nbformat_minor": 2
}
