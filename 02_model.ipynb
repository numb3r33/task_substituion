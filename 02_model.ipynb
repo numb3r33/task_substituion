{
 "cells": [
  {
   "cell_type": "code",
   "execution_count": null,
   "metadata": {},
   "outputs": [],
   "source": [
    "#hide\n",
    "%load_ext autoreload\n",
    "%autoreload 2"
   ]
  },
  {
   "cell_type": "code",
   "execution_count": null,
   "metadata": {},
   "outputs": [],
   "source": [
    "# default_exp model\n",
    "# default_cls_lvl 3"
   ]
  },
  {
   "cell_type": "code",
   "execution_count": null,
   "metadata": {},
   "outputs": [],
   "source": [
    "#export\n",
    "import pandas as pd\n",
    "import numpy as np\n",
    "import string\n",
    "\n",
    "import lightgbm as lgb\n",
    "from sklearn.model_selection import KFold"
   ]
  },
  {
   "cell_type": "markdown",
   "metadata": {},
   "source": [
    "# module name here\n",
    "\n",
    "> API details."
   ]
  },
  {
   "cell_type": "code",
   "execution_count": null,
   "metadata": {},
   "outputs": [],
   "source": [
    "#hide\n",
    "from nbdev.showdoc import *"
   ]
  },
  {
   "cell_type": "markdown",
   "metadata": {},
   "source": [
    "### Model Class"
   ]
  },
  {
   "cell_type": "code",
   "execution_count": null,
   "metadata": {},
   "outputs": [],
   "source": [
    "#export\n",
    "class Model:\n",
    "    def __init__(self, **model_kwargs):\n",
    "        self.params = model_kwargs\n",
    "        self.num_boost_round = self.params['num_boost_round']\n",
    "        \n",
    "        # remove num estimators key from the model parameters\n",
    "        del self.params['num_boost_round']\n",
    "    \n",
    "    def fit(self, X:pd.DataFrame, y:pd.Series):\n",
    "        ltrain = lgb.Dataset(X, y)\n",
    "        self.model  = lgb.train(self.params, ltrain, self.num_boost_round)\n",
    "        \n",
    "        return self.model\n",
    "    \n",
    "    def cv(self, X:pd.DataFrame, y:pd.Series, perf_fn, **cv_params)->np.ndarray:\n",
    "        kf = KFold(**cv_params)\n",
    "        fold_perfs = []\n",
    "        \n",
    "        for index, (itr, ite) in enumerate(kf.split(X)):\n",
    "            print(f'Fold: {index}')\n",
    "            \n",
    "            Xtr, ytr   = X.iloc[itr], y.iloc[itr]\n",
    "            Xval, yval = X.iloc[ite], y.iloc[ite]\n",
    "        \n",
    "            ltrain = lgb.Dataset(Xtr, ytr)\n",
    "            \n",
    "            model = lgb.train(self.params, ltrain, self.num_boost_round)\n",
    "            preds = model.predict(Xval)\n",
    "            \n",
    "            fold_perf = perf_fn(yval, preds)\n",
    "            print(f'Performance: {fold_perf}')\n",
    "            \n",
    "            fold_perfs.append(fold_perf)\n",
    "        \n",
    "        print(f'Mean performance: {np.mean(fold_perfs)}, Std performance: {np.std(fold_perfs)}')\n",
    "        \n",
    "        return np.array(fold_perfs)\n",
    "    \n",
    "    def predict(self, Xtest)->np.ndarray:\n",
    "        preds = self.model.predict(Xtest)\n",
    "        \n",
    "        return np.array(preds)"
   ]
  },
  {
   "cell_type": "code",
   "execution_count": null,
   "metadata": {},
   "outputs": [
    {
     "data": {
      "text/html": [
       "<div>\n",
       "<style scoped>\n",
       "    .dataframe tbody tr th:only-of-type {\n",
       "        vertical-align: middle;\n",
       "    }\n",
       "\n",
       "    .dataframe tbody tr th {\n",
       "        vertical-align: top;\n",
       "    }\n",
       "\n",
       "    .dataframe thead th {\n",
       "        text-align: right;\n",
       "    }\n",
       "</style>\n",
       "<table border=\"1\" class=\"dataframe\">\n",
       "  <thead>\n",
       "    <tr style=\"text-align: right;\">\n",
       "      <th></th>\n",
       "      <th>c1</th>\n",
       "      <th>c2</th>\n",
       "      <th>c3</th>\n",
       "    </tr>\n",
       "  </thead>\n",
       "  <tbody>\n",
       "    <tr>\n",
       "      <th>0</th>\n",
       "      <td>0.802274</td>\n",
       "      <td>n</td>\n",
       "      <td>0.889491</td>\n",
       "    </tr>\n",
       "    <tr>\n",
       "      <th>1</th>\n",
       "      <td>0.700237</td>\n",
       "      <td>q</td>\n",
       "      <td>0.979652</td>\n",
       "    </tr>\n",
       "    <tr>\n",
       "      <th>2</th>\n",
       "      <td>0.826138</td>\n",
       "      <td>m</td>\n",
       "      <td>0.299396</td>\n",
       "    </tr>\n",
       "    <tr>\n",
       "      <th>3</th>\n",
       "      <td>0.381898</td>\n",
       "      <td>u</td>\n",
       "      <td>0.068205</td>\n",
       "    </tr>\n",
       "    <tr>\n",
       "      <th>4</th>\n",
       "      <td>0.232103</td>\n",
       "      <td>e</td>\n",
       "      <td>0.703452</td>\n",
       "    </tr>\n",
       "    <tr>\n",
       "      <th>...</th>\n",
       "      <td>...</td>\n",
       "      <td>...</td>\n",
       "      <td>...</td>\n",
       "    </tr>\n",
       "    <tr>\n",
       "      <th>95</th>\n",
       "      <td>0.635907</td>\n",
       "      <td>x</td>\n",
       "      <td>0.900582</td>\n",
       "    </tr>\n",
       "    <tr>\n",
       "      <th>96</th>\n",
       "      <td>0.924171</td>\n",
       "      <td>f</td>\n",
       "      <td>0.887975</td>\n",
       "    </tr>\n",
       "    <tr>\n",
       "      <th>97</th>\n",
       "      <td>0.974560</td>\n",
       "      <td>c</td>\n",
       "      <td>0.744480</td>\n",
       "    </tr>\n",
       "    <tr>\n",
       "      <th>98</th>\n",
       "      <td>0.261153</td>\n",
       "      <td>t</td>\n",
       "      <td>0.363194</td>\n",
       "    </tr>\n",
       "    <tr>\n",
       "      <th>99</th>\n",
       "      <td>0.778107</td>\n",
       "      <td>j</td>\n",
       "      <td>0.271350</td>\n",
       "    </tr>\n",
       "  </tbody>\n",
       "</table>\n",
       "<p>100 rows × 3 columns</p>\n",
       "</div>"
      ],
      "text/plain": [
       "          c1 c2        c3\n",
       "0   0.802274  n  0.889491\n",
       "1   0.700237  q  0.979652\n",
       "2   0.826138  m  0.299396\n",
       "3   0.381898  u  0.068205\n",
       "4   0.232103  e  0.703452\n",
       "..       ... ..       ...\n",
       "95  0.635907  x  0.900582\n",
       "96  0.924171  f  0.887975\n",
       "97  0.974560  c  0.744480\n",
       "98  0.261153  t  0.363194\n",
       "99  0.778107  j  0.271350\n",
       "\n",
       "[100 rows x 3 columns]"
      ]
     },
     "execution_count": null,
     "metadata": {},
     "output_type": "execute_result"
    }
   ],
   "source": [
    "SIZE = 100\n",
    "NUM_NANS = 5\n",
    "example_df = pd.DataFrame({'c1': np.random.rand(SIZE, ),\n",
    "                           'c2': [string.ascii_lowercase[np.random.randint(low=0, high=26)] for i in range(SIZE)],\n",
    "                           'c3': np.random.permutation([np.nan] * NUM_NANS + list(np.random.rand(SIZE - NUM_NANS, )))\n",
    "                          })\n",
    "example_df"
   ]
  },
  {
   "cell_type": "code",
   "execution_count": null,
   "metadata": {},
   "outputs": [],
   "source": [
    "from task_substitution.data import *\n",
    "\n",
    "data = Dataset(example_df, target_fld='c3', cat_flds=['c2'], ignore_flds=None)\n",
    "proc_example_df = data.preprocess()\n",
    "\n",
    "train, test = Dataset.split_train_test(proc_example_df, target_fld='c3')"
   ]
  },
  {
   "cell_type": "code",
   "execution_count": null,
   "metadata": {},
   "outputs": [
    {
     "name": "stdout",
     "output_type": "stream",
     "text": [
      "Index: 0\n",
      "Performance: 0.12761819458109147\n",
      "Index: 1\n",
      "Performance: 0.08611697110621237\n",
      "Index: 2\n",
      "Performance: 0.08890789555489446\n",
      "Index: 3\n",
      "Performance: 0.15459788005777875\n",
      "Index: 4\n",
      "Performance: 0.0676545156217236\n",
      "Mean performance: 0.10497909138434014, Std performance: 0.031564980771756436\n"
     ]
    },
    {
     "data": {
      "text/plain": [
       "array([0.12761819, 0.08611697, 0.0889079 , 0.15459788, 0.06765452])"
      ]
     },
     "execution_count": null,
     "metadata": {},
     "output_type": "execute_result"
    }
   ],
   "source": [
    "from sklearn.metrics import mean_squared_error\n",
    "\n",
    "params = {'num_boost_round': 100,\n",
    "          'objective': 'regression',\n",
    "          'num_leaves': 31,\n",
    "          'seed': 41\n",
    "         }\n",
    "\n",
    "model = Model(**params)\n",
    "\n",
    "y_train = train['c3']\n",
    "X_train = train.drop('c3', axis=1)\n",
    "\n",
    "X_valid = test.drop('c3', axis=1)\n",
    "\n",
    "cv_params = {'n_splits': 5,\n",
    "             'shuffle': True,\n",
    "             'random_state': True\n",
    "            }\n",
    "\n",
    "model.cv(X_train, y_train, mean_squared_error, **cv_params)"
   ]
  },
  {
   "cell_type": "code",
   "execution_count": null,
   "metadata": {},
   "outputs": [],
   "source": []
  }
 ],
 "metadata": {
  "kernelspec": {
   "display_name": "ts",
   "language": "python",
   "name": "ts"
  }
 },
 "nbformat": 4,
 "nbformat_minor": 2
}
