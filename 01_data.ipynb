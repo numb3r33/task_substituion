{
 "cells": [
  {
   "cell_type": "code",
   "execution_count": null,
   "metadata": {},
   "outputs": [],
   "source": [
    "# default_exp data\n",
    "# default_cls_lvl 3"
   ]
  },
  {
   "cell_type": "code",
   "execution_count": null,
   "metadata": {},
   "outputs": [],
   "source": [
    "#export\n",
    "import pandas as pd\n",
    "import numpy as np\n",
    "\n",
    "from task_substitution.core import *"
   ]
  },
  {
   "cell_type": "markdown",
   "metadata": {},
   "source": [
    "# Dataset\n",
    "\n",
    "> Class that would represent dataset."
   ]
  },
  {
   "cell_type": "code",
   "execution_count": null,
   "metadata": {},
   "outputs": [],
   "source": [
    "#hide\n",
    "from nbdev.showdoc import *"
   ]
  },
  {
   "cell_type": "markdown",
   "metadata": {},
   "source": [
    "### Dataset Class"
   ]
  },
  {
   "cell_type": "code",
   "execution_count": null,
   "metadata": {},
   "outputs": [],
   "source": [
    "#export\n",
    "class Dataset:\n",
    "    def __init__(self, df, **kwargs):\n",
    "        self.df = df\n",
    "        self.target_fld = kwargs['target_fld']\n",
    "        self.ignore_flds = kwargs['ignore_flds']\n",
    "        self.cat_flds = kwargs['cat_flds']\n",
    "        \n",
    "    @property\n",
    "    def target(self):\n",
    "        return self.data[self.target_fld]\n",
    "    \n",
    "    def remove_ignore_flds(self)->pd.DataFrame:\n",
    "        if self.ignore_flds is not None:\n",
    "            self.df = _ignore_flds(self.df, self.ignore_flds)\n",
    "        return self.df\n",
    "    \n",
    "    def preprocess_categorical(self)->pd.DataFrame:\n",
    "        cats = self.cat_flds if self.cat_flds else self.df.select_dtypes(include=['object']).columns\n",
    "        for c, v in self.df.loc[:, cats].items():\n",
    "            self.df.loc[:, c] = _preprocess_categorical(v)\n",
    "        return self.df\n",
    "    \n",
    "    def preprocess(self):\n",
    "        self.df = self.remove_ignore_flds()\n",
    "        self.df = self.preprocess_categorical()\n",
    "        \n",
    "        return self.df\n",
    "    \n",
    "    @classmethod\n",
    "    def split_train_test_by_null(cls, df:pd.DataFrame, target_fld:str)->(pd.DataFrame, pd.DataFrame):\n",
    "        train, test = _split_by_null(df, target_fld)\n",
    "        return train, test\n",
    "    \n",
    "    @classmethod\n",
    "    def split_train_test(cls, df:pd.DataFrame, split_args:dict)->(pd.DataFrame, pd.DataFrame):\n",
    "        \"\"\"\n",
    "        Splits the dataframe into train and test sets.\n",
    "        \"\"\"\n",
    "        train, test = _split_train_test(df, split_args)\n",
    "        return train, test"
   ]
  },
  {
   "cell_type": "code",
   "execution_count": null,
   "metadata": {},
   "outputs": [
    {
     "data": {
      "text/html": [
       "<div>\n",
       "<style scoped>\n",
       "    .dataframe tbody tr th:only-of-type {\n",
       "        vertical-align: middle;\n",
       "    }\n",
       "\n",
       "    .dataframe tbody tr th {\n",
       "        vertical-align: top;\n",
       "    }\n",
       "\n",
       "    .dataframe thead th {\n",
       "        text-align: right;\n",
       "    }\n",
       "</style>\n",
       "<table border=\"1\" class=\"dataframe\">\n",
       "  <thead>\n",
       "    <tr style=\"text-align: right;\">\n",
       "      <th></th>\n",
       "      <th>c1</th>\n",
       "      <th>c2</th>\n",
       "      <th>c3</th>\n",
       "    </tr>\n",
       "  </thead>\n",
       "  <tbody>\n",
       "    <tr>\n",
       "      <th>0</th>\n",
       "      <td>0.986508</td>\n",
       "      <td>a</td>\n",
       "      <td>0.135839</td>\n",
       "    </tr>\n",
       "    <tr>\n",
       "      <th>1</th>\n",
       "      <td>0.738145</td>\n",
       "      <td>c</td>\n",
       "      <td>0.245510</td>\n",
       "    </tr>\n",
       "    <tr>\n",
       "      <th>2</th>\n",
       "      <td>0.041694</td>\n",
       "      <td>d</td>\n",
       "      <td>0.124175</td>\n",
       "    </tr>\n",
       "    <tr>\n",
       "      <th>3</th>\n",
       "      <td>0.358501</td>\n",
       "      <td>i</td>\n",
       "      <td>0.905612</td>\n",
       "    </tr>\n",
       "    <tr>\n",
       "      <th>4</th>\n",
       "      <td>0.822294</td>\n",
       "      <td>h</td>\n",
       "      <td>0.296354</td>\n",
       "    </tr>\n",
       "    <tr>\n",
       "      <th>5</th>\n",
       "      <td>0.851814</td>\n",
       "      <td>d</td>\n",
       "      <td>0.111530</td>\n",
       "    </tr>\n",
       "    <tr>\n",
       "      <th>6</th>\n",
       "      <td>0.068141</td>\n",
       "      <td>g</td>\n",
       "      <td>0.981517</td>\n",
       "    </tr>\n",
       "    <tr>\n",
       "      <th>7</th>\n",
       "      <td>0.194940</td>\n",
       "      <td>e</td>\n",
       "      <td>0.752494</td>\n",
       "    </tr>\n",
       "    <tr>\n",
       "      <th>8</th>\n",
       "      <td>0.337356</td>\n",
       "      <td>b</td>\n",
       "      <td>0.319017</td>\n",
       "    </tr>\n",
       "    <tr>\n",
       "      <th>9</th>\n",
       "      <td>0.656170</td>\n",
       "      <td>e</td>\n",
       "      <td>NaN</td>\n",
       "    </tr>\n",
       "  </tbody>\n",
       "</table>\n",
       "</div>"
      ],
      "text/plain": [
       "         c1 c2        c3\n",
       "0  0.986508  a  0.135839\n",
       "1  0.738145  c  0.245510\n",
       "2  0.041694  d  0.124175\n",
       "3  0.358501  i  0.905612\n",
       "4  0.822294  h  0.296354\n",
       "5  0.851814  d  0.111530\n",
       "6  0.068141  g  0.981517\n",
       "7  0.194940  e  0.752494\n",
       "8  0.337356  b  0.319017\n",
       "9  0.656170  e       NaN"
      ]
     },
     "execution_count": null,
     "metadata": {},
     "output_type": "execute_result"
    }
   ],
   "source": [
    "import string\n",
    "example_df = pd.DataFrame({'c1': np.random.rand(10, ),\n",
    "                           'c2': [string.ascii_lowercase[np.random.randint(low=0, high=10)] for i in range(10)],\n",
    "                           'c3': np.random.permutation([np.nan] + list(np.random.rand(9, )))\n",
    "                          })\n",
    "example_df"
   ]
  },
  {
   "cell_type": "code",
   "execution_count": null,
   "metadata": {},
   "outputs": [],
   "source": [
    "data = Dataset(example_df, target_fld='c3', cat_flds=['c2'], ignore_flds=None)\n",
    "new_example_df = data.preprocess(); new_example_df\n",
    "\n",
    "assert len(new_example_df.loc[:, ['c2']].select_dtypes(include=['object']).columns) == 0"
   ]
  }
 ],
 "metadata": {
  "kernelspec": {
   "display_name": "ts",
   "language": "python",
   "name": "ts"
  }
 },
 "nbformat": 4,
 "nbformat_minor": 2
}
