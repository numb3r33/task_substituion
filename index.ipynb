{
 "cells": [
  {
   "cell_type": "markdown",
   "metadata": {},
   "source": [
    "# task_substitution\n",
    "\n",
    "> Solve an auxiliary task using ML."
   ]
  },
  {
   "cell_type": "markdown",
   "metadata": {},
   "source": [
    "**This library is created by using [nbdev](https://github.com/fastai/nbdev), please check it out.**"
   ]
  },
  {
   "cell_type": "markdown",
   "metadata": {},
   "source": [
    "**Task Substitution** is a method of solving an auxiliary problem ( with different features and different target ) in order to better understand the initial problem and solving it efficiently. \n",
    "\n",
    "Let's take a look at standard machine learning task, in the figure below you see a regression task with features `f1`, `f2`, `f3` and target variable `y`."
   ]
  },
  {
   "cell_type": "markdown",
   "metadata": {},
   "source": [
    "<img src=\"images/training_set.png\"/>"
   ]
  },
  {
   "cell_type": "markdown",
   "metadata": {},
   "source": [
    "We want to build on a model on the above dataset to predict for unknown `y` values in the test dataset shown below."
   ]
  },
  {
   "cell_type": "markdown",
   "metadata": {},
   "source": [
    "<img src=\"images/test.png\"/>"
   ]
  },
  {
   "cell_type": "markdown",
   "metadata": {},
   "source": [
    "**Exploratory Data Analysis**"
   ]
  },
  {
   "cell_type": "markdown",
   "metadata": {},
   "source": [
    "First step we take to solve the problem is to look at the data, there can be many features with *missing values* or *outliers* which needs to be understood. It is possible that there is a relationship between a missing value and values of other features."
   ]
  },
  {
   "cell_type": "markdown",
   "metadata": {},
   "source": [
    "## Recover Missing Values"
   ]
  },
  {
   "cell_type": "markdown",
   "metadata": {},
   "source": [
    "It is possible for a feature to have a missing value, it could be a data recording issue or bug etc. Often times for numerical features we replace missing value with `mean` or `median` value as a approximation. Sometimes we replace missing value with values like `-9999` so that model treats them differently or sometimes we leave them as is as libraries like `xgboost` and `lightgbm` can handle `nulls`. Let's look at following dataset"
   ]
  },
  {
   "cell_type": "markdown",
   "metadata": {},
   "source": [
    "<img src=\"images/missing_full.png\"/>"
   ]
  },
  {
   "cell_type": "markdown",
   "metadata": {},
   "source": [
    "Here we have a feature `f3` with missing values, this is a numerical feature, what we can do is that we can consider `f3` as target feature and reframe this as regresion problem where we try to predict for missing values."
   ]
  },
  {
   "cell_type": "markdown",
   "metadata": {},
   "source": [
    "<img src=\"images/missing_train.png\"/>"
   ]
  },
  {
   "cell_type": "markdown",
   "metadata": {},
   "source": [
    "<img src=\"images/missing_test.png\"/>"
   ]
  },
  {
   "cell_type": "markdown",
   "metadata": {},
   "source": [
    "The above setup is identical to the original regression task, here we would build a model to use `f1` and `f2` to predict for `f3`. So instead of using `mean`, `median` etc. we can build a model to restore missing values which can help us solve the original problem efficiently.\n",
    "\n",
    "We have to be careful to not overfit when building such models."
   ]
  },
  {
   "cell_type": "markdown",
   "metadata": {},
   "source": [
    "## Check Train Test Distributions"
   ]
  },
  {
   "cell_type": "markdown",
   "metadata": {},
   "source": [
    "Whenever we train a model we want to use it on a new sample, but what if the new sample comes from a different distribution compared to the data on which the model was trained on. When we deploy our solutions on production we want to be very careful of this change as our models would fail if there is a mismatch in train and test sets. We can pose this problem as an auxiliary task and create a new binary target `y`, where `1` represents whether row comes from `test` set and `0` represents whether it comes from `train` set and then we train our model to predict whether a row comes from `train` or `test` set if the performance ( e.g. `AUC` score ) is high we can conclude that the train and test set come from different distributions. Ofcourse, we need to remove the `original target` from the analysis."
   ]
  },
  {
   "cell_type": "markdown",
   "metadata": {},
   "source": [
    "<img src=\"images/ttm_train.png\"/>"
   ]
  },
  {
   "cell_type": "markdown",
   "metadata": {},
   "source": [
    "<img src=\"images/ttm_test.png\"/>"
   ]
  },
  {
   "cell_type": "markdown",
   "metadata": {},
   "source": [
    "**In the above images you can see two different datasets, we want to verify whether these two come from same distributions or not.** \n",
    "\n",
    "Consider the first example set as training set and second one as test set for this example."
   ]
  },
  {
   "cell_type": "markdown",
   "metadata": {},
   "source": [
    "<img src=\"images/ttm_train_with_target.png\"/>"
   ]
  },
  {
   "cell_type": "markdown",
   "metadata": {},
   "source": [
    "<img src=\"images/ttm_test_with_target.png\"/>"
   ]
  },
  {
   "cell_type": "markdown",
   "metadata": {},
   "source": [
    "We create a new target called `is_test` which denotes whether a row belongs to test set or not."
   ]
  },
  {
   "cell_type": "markdown",
   "metadata": {},
   "source": [
    "<img src=\"images/ttm_train_test_combined.png\"/>"
   ]
  },
  {
   "cell_type": "markdown",
   "metadata": {},
   "source": [
    "**Then we combine training and test set and train a model to predict whether a row comes from train or test set, if our model performs well then we know that these two datasets are from different distributions.**\n",
    "\n",
    "We would still have to dig deep into looking at whether that's the case but the above method can help identifying which features are have drifted apart in train and test datasets. If you look at feature importance of the model that was used to separated train and test apart you can identify such features."
   ]
  },
  {
   "cell_type": "markdown",
   "metadata": {},
   "source": [
    "## Install"
   ]
  },
  {
   "cell_type": "markdown",
   "metadata": {},
   "source": [
    "task_substitution in on pypi:\n",
    "\n",
    "```\n",
    "pip install task_substitution\n",
    "```\n",
    "\n",
    "For an editable install, use the following:\n",
    "\n",
    "```\n",
    "git clone https://github.com/numb3r33/task_substitution.git\n",
    "pip install -e task_substitution\n",
    "```"
   ]
  },
  {
   "cell_type": "markdown",
   "metadata": {},
   "source": [
    "## How to use"
   ]
  },
  {
   "cell_type": "markdown",
   "metadata": {},
   "source": [
    "**Recover Missing Values**"
   ]
  },
  {
   "cell_type": "markdown",
   "metadata": {},
   "source": [
    ">Currently we only support missing value recovery for numerical features, we plan to extend support for other feature types as well. Also the model currently uses LightGBM model to recover missing values."
   ]
  },
  {
   "cell_type": "markdown",
   "metadata": {},
   "source": [
    "```\n",
    "from task_substitution.recover_missing import *\n",
    "from sklearn.metrics import mean_squared_error\n",
    "\n",
    "train = train.drop('original_target', axis=1)\n",
    "\n",
    "model_args = {\n",
    "          'objective': 'regression',\n",
    "          'learning_rate': 0.1,\n",
    "          'num_leaves': 31,\n",
    "          'min_data_in_leaf': 100,\n",
    "          'num_boost_round': 100,\n",
    "          'verbosity': -1,\n",
    "          'seed': 41\n",
    "             }\n",
    "             \n",
    "split_args = {\n",
    "    'test_size': .2,\n",
    "    'random_state': 41\n",
    "}\n",
    "\n",
    "# target_fld: feature with missing values.\n",
    "# cat_flds: categorical features in the original dataset.\n",
    "# ignore_flds: features you want to ignore. ( these won't be used by LightGBM model to recover missing values)\n",
    "\n",
    "rec = RecoverMissing(target_fld='f3',\n",
    "                     cat_flds=[],\n",
    "                     ignore_flds=['f2'],\n",
    "                     perf_fn=lambda tr,pe: np.sqrt(mean_squared_error(tr, pe)),\n",
    "                     split_args=split_args,\n",
    "                     model_args=model_args\n",
    "                    )\n",
    "\n",
    "train_recovered = rec.run(train)\n",
    "```"
   ]
  },
  {
   "cell_type": "markdown",
   "metadata": {},
   "source": [
    "**Check train test distributions**"
   ]
  },
  {
   "cell_type": "markdown",
   "metadata": {},
   "source": [
    ">We use LightGBM model to predict whether a row comes from test or train distribution."
   ]
  },
  {
   "cell_type": "markdown",
   "metadata": {},
   "source": [
    "```\n",
    "import lightgbm as lgb\n",
    "from task_substitution.train_test_similarity import *\n",
    "from sklearn.metrics import roc_auc_score\n",
    "\n",
    "train = train.drop('original_target', axis=1)\n",
    "\n",
    "split_args = {'test_size': 0.2, 'random_state': 41}\n",
    "\n",
    "model_args = {\n",
    "    'num_boost_round': 100,\n",
    "    'objective': 'binary',\n",
    "    'learning_rate': 0.1,\n",
    "    'num_leaves': 31,\n",
    "    'nthread': -1,\n",
    "    'verbosity': -1,\n",
    "    'seed': 41\n",
    "}\n",
    "\n",
    "# cat_flds: categorical features in the original dataset.\n",
    "# ignore_flds: features you want to ignore. ( these won't be used by LightGBM model )\n",
    "\n",
    "tts = TrainTestSimilarity(cat_flds=[], \n",
    "                          ignore_flds=None,\n",
    "                          perf_fn=roc_auc_score,\n",
    "                          split_args=split_args, \n",
    "                          model_args=model_args)\n",
    "tts.run(train, test)\n",
    "\n",
    "# to get feature importance\n",
    "fig, ax = plt.subplots(1, figsize=(16, 10)\n",
    "lgb.plot_importance(tts.trained_model, ax=ax, max_num_features=5, importance_type='gain')\n",
    "```"
   ]
  },
  {
   "cell_type": "markdown",
   "metadata": {},
   "source": [
    "## Contributing"
   ]
  },
  {
   "cell_type": "markdown",
   "metadata": {},
   "source": [
    "If you want to contribute to `task_substitution` please refer to [contributions guidelines](./CONTRIBUTING.md)"
   ]
  }
 ],
 "metadata": {
  "kernelspec": {
   "display_name": "ts",
   "language": "python",
   "name": "ts"
  }
 },
 "nbformat": 4,
 "nbformat_minor": 2
}
