{
 "cells": [
  {
   "cell_type": "code",
   "execution_count": null,
   "metadata": {},
   "outputs": [],
   "source": [
    "#hide\n",
    "%reload_ext autoreload\n",
    "%autoreload 2"
   ]
  },
  {
   "cell_type": "code",
   "execution_count": null,
   "metadata": {},
   "outputs": [],
   "source": [
    "#export\n",
    "import pandas as pd\n",
    "import numpy as np\n",
    "\n",
    "from task_substitution.data import *\n",
    "from task_substitution.model import *\n",
    "from task_substitution.external_data import *"
   ]
  },
  {
   "cell_type": "code",
   "execution_count": null,
   "metadata": {},
   "outputs": [],
   "source": [
    "# default_exp train_test_similarity"
   ]
  },
  {
   "cell_type": "markdown",
   "metadata": {},
   "source": [
    "# TrainTestSimilarity\n",
    "\n",
    "> Class that would takes train and test sets and checks whether they come from same distribution or not."
   ]
  },
  {
   "cell_type": "code",
   "execution_count": null,
   "metadata": {},
   "outputs": [],
   "source": [
    "#hide\n",
    "from nbdev.showdoc import *"
   ]
  },
  {
   "cell_type": "markdown",
   "metadata": {},
   "source": [
    "### Runner Class"
   ]
  },
  {
   "cell_type": "code",
   "execution_count": null,
   "metadata": {},
   "outputs": [],
   "source": [
    "#export\n",
    "class TrainTestSimilarity:\n",
    "    \"\"\"Class to check whether train and test come from same distribution or not using task substitution\"\"\"\n",
    "    def __init__(self, cat_flds:list=None, ignore_flds:list=None, perf_fn=None, split_args:dict=None, model_args:dict=None):\n",
    "        self.dataset_args = {'cat_flds': cat_flds,\n",
    "                             'ignore_flds': ignore_flds\n",
    "                            }\n",
    "        self.model_args = model_args\n",
    "        self.split_args = split_args\n",
    "        \n",
    "        self.perf_fn = perf_fn\n",
    "        \n",
    "    def check(self, X_train, y_train, X_test):\n",
    "        \"\"\"Check whether train and test come from same distribution or not.\"\"\"\n",
    "        model = Model(**self.model_args)\n",
    "        fold_runs = model.cv(X_train, y_train, self.perf_fn)\n",
    "        \n",
    "        self.trained_model = model.fit(X_train, y_train)\n",
    "        pred = self.trained_model.predict(X_test)\n",
    "        \n",
    "        return fold_runs, pred\n",
    "        \n",
    "    def run(self, train, test):\n",
    "        train_cpy = train.copy()\n",
    "        test_cpy  = test.copy()\n",
    "        \n",
    "        # create a new column which represents whether instance comes from\n",
    "        # training set or test set. \n",
    "        train_cpy = train_cpy.assign(is_test=0)\n",
    "        test_cpy  = test_cpy.assign(is_test=1)\n",
    "        \n",
    "        # combine train and test datasets\n",
    "        df_cpy = pd.concat((train_cpy, test_cpy), axis=0)\n",
    "        \n",
    "        # shuffle the dataset\n",
    "        df_cpy = df_cpy.sample(frac=1.)\n",
    "        df_cpy.index = np.arange(len(df_cpy))\n",
    "        \n",
    "        # add is_test as new target field for the dataset\n",
    "        self.dataset_args['target_fld'] = 'is_test'\n",
    "        \n",
    "        # create dataset class\n",
    "        data = Dataset(df_cpy, **self.dataset_args)\n",
    "        \n",
    "        # label encode categorical variables\n",
    "        df_cpy = data.preprocess()\n",
    "        \n",
    "        # split the dataset into train and test \n",
    "        train, test = Dataset.split_train_test(df_cpy, self.split_args)\n",
    "        \n",
    "        # create target variable\n",
    "        y_train = train[self.dataset_args['target_fld']]\n",
    "        X_train = train.drop(self.dataset_args['target_fld'], axis=1)\n",
    "        \n",
    "        y_test = test[self.dataset_args['target_fld']]\n",
    "        X_test = test.drop(self.dataset_args['target_fld'], axis=1)\n",
    "        \n",
    "        # train model to recover missing values\n",
    "        fold_runs, preds = self.check(X_train, y_train, X_test)\n",
    "        \n",
    "        # test performance\n",
    "        test_perf = self.perf_fn(y_test, preds)\n",
    "        print(f'Performance on unseen dataset: {test_perf}')\n",
    "        \n",
    "        return test_perf"
   ]
  },
  {
   "cell_type": "markdown",
   "metadata": {},
   "source": [
    "### Usage"
   ]
  },
  {
   "cell_type": "code",
   "execution_count": null,
   "metadata": {},
   "outputs": [
    {
     "data": {
      "text/html": [
       "<div>\n",
       "<style scoped>\n",
       "    .dataframe tbody tr th:only-of-type {\n",
       "        vertical-align: middle;\n",
       "    }\n",
       "\n",
       "    .dataframe tbody tr th {\n",
       "        vertical-align: top;\n",
       "    }\n",
       "\n",
       "    .dataframe thead th {\n",
       "        text-align: right;\n",
       "    }\n",
       "</style>\n",
       "<table border=\"1\" class=\"dataframe\">\n",
       "  <thead>\n",
       "    <tr style=\"text-align: right;\">\n",
       "      <th></th>\n",
       "      <th>f0</th>\n",
       "      <th>f1</th>\n",
       "      <th>f2</th>\n",
       "      <th>f3</th>\n",
       "      <th>f4</th>\n",
       "    </tr>\n",
       "  </thead>\n",
       "  <tbody>\n",
       "    <tr>\n",
       "      <th>0</th>\n",
       "      <td>0.256065</td>\n",
       "      <td>0.477129</td>\n",
       "      <td>0.542057</td>\n",
       "      <td>0.034582</td>\n",
       "      <td>0.222517</td>\n",
       "    </tr>\n",
       "    <tr>\n",
       "      <th>1</th>\n",
       "      <td>0.071871</td>\n",
       "      <td>0.133654</td>\n",
       "      <td>0.067683</td>\n",
       "      <td>0.053721</td>\n",
       "      <td>0.986306</td>\n",
       "    </tr>\n",
       "    <tr>\n",
       "      <th>2</th>\n",
       "      <td>0.890523</td>\n",
       "      <td>0.436129</td>\n",
       "      <td>0.386798</td>\n",
       "      <td>0.687215</td>\n",
       "      <td>0.165514</td>\n",
       "    </tr>\n",
       "    <tr>\n",
       "      <th>3</th>\n",
       "      <td>0.168903</td>\n",
       "      <td>0.399847</td>\n",
       "      <td>0.028072</td>\n",
       "      <td>0.326286</td>\n",
       "      <td>0.085797</td>\n",
       "    </tr>\n",
       "    <tr>\n",
       "      <th>4</th>\n",
       "      <td>0.905647</td>\n",
       "      <td>0.979213</td>\n",
       "      <td>0.624253</td>\n",
       "      <td>0.829828</td>\n",
       "      <td>0.531663</td>\n",
       "    </tr>\n",
       "  </tbody>\n",
       "</table>\n",
       "</div>"
      ],
      "text/plain": [
       "         f0        f1        f2        f3        f4\n",
       "0  0.256065  0.477129  0.542057  0.034582  0.222517\n",
       "1  0.071871  0.133654  0.067683  0.053721  0.986306\n",
       "2  0.890523  0.436129  0.386798  0.687215  0.165514\n",
       "3  0.168903  0.399847  0.028072  0.326286  0.085797\n",
       "4  0.905647  0.979213  0.624253  0.829828  0.531663"
      ]
     },
     "execution_count": null,
     "metadata": {},
     "output_type": "execute_result"
    }
   ],
   "source": [
    "train = get_fake_numeric_data(); train.head()"
   ]
  },
  {
   "cell_type": "code",
   "execution_count": null,
   "metadata": {},
   "outputs": [
    {
     "data": {
      "text/html": [
       "<div>\n",
       "<style scoped>\n",
       "    .dataframe tbody tr th:only-of-type {\n",
       "        vertical-align: middle;\n",
       "    }\n",
       "\n",
       "    .dataframe tbody tr th {\n",
       "        vertical-align: top;\n",
       "    }\n",
       "\n",
       "    .dataframe thead th {\n",
       "        text-align: right;\n",
       "    }\n",
       "</style>\n",
       "<table border=\"1\" class=\"dataframe\">\n",
       "  <thead>\n",
       "    <tr style=\"text-align: right;\">\n",
       "      <th></th>\n",
       "      <th>f0</th>\n",
       "      <th>f1</th>\n",
       "      <th>f2</th>\n",
       "      <th>f3</th>\n",
       "      <th>f4</th>\n",
       "    </tr>\n",
       "  </thead>\n",
       "  <tbody>\n",
       "    <tr>\n",
       "      <th>0</th>\n",
       "      <td>0.454871</td>\n",
       "      <td>0.220669</td>\n",
       "      <td>0.951830</td>\n",
       "      <td>0.157362</td>\n",
       "      <td>0.868527</td>\n",
       "    </tr>\n",
       "    <tr>\n",
       "      <th>1</th>\n",
       "      <td>0.611131</td>\n",
       "      <td>0.331115</td>\n",
       "      <td>0.130813</td>\n",
       "      <td>0.824166</td>\n",
       "      <td>0.641296</td>\n",
       "    </tr>\n",
       "    <tr>\n",
       "      <th>2</th>\n",
       "      <td>0.121134</td>\n",
       "      <td>0.866722</td>\n",
       "      <td>0.579458</td>\n",
       "      <td>0.050959</td>\n",
       "      <td>0.416681</td>\n",
       "    </tr>\n",
       "    <tr>\n",
       "      <th>3</th>\n",
       "      <td>0.121944</td>\n",
       "      <td>0.513375</td>\n",
       "      <td>0.497313</td>\n",
       "      <td>0.105572</td>\n",
       "      <td>0.235918</td>\n",
       "    </tr>\n",
       "    <tr>\n",
       "      <th>4</th>\n",
       "      <td>0.193114</td>\n",
       "      <td>0.553202</td>\n",
       "      <td>0.015797</td>\n",
       "      <td>0.265587</td>\n",
       "      <td>0.355239</td>\n",
       "    </tr>\n",
       "  </tbody>\n",
       "</table>\n",
       "</div>"
      ],
      "text/plain": [
       "         f0        f1        f2        f3        f4\n",
       "0  0.454871  0.220669  0.951830  0.157362  0.868527\n",
       "1  0.611131  0.331115  0.130813  0.824166  0.641296\n",
       "2  0.121134  0.866722  0.579458  0.050959  0.416681\n",
       "3  0.121944  0.513375  0.497313  0.105572  0.235918\n",
       "4  0.193114  0.553202  0.015797  0.265587  0.355239"
      ]
     },
     "execution_count": null,
     "metadata": {},
     "output_type": "execute_result"
    }
   ],
   "source": [
    "test = get_fake_numeric_data(); test.head()"
   ]
  },
  {
   "cell_type": "code",
   "execution_count": null,
   "metadata": {},
   "outputs": [
    {
     "name": "stderr",
     "output_type": "stream",
     "text": [
      "//anaconda3/lib/python3.7/site-packages/sklearn/model_selection/_split.py:431: FutureWarning: The default value of n_split will change from 3 to 5 in version 0.22. Specify it explicitly to silence this warning.\n",
      "  warnings.warn(NSPLIT_WARNING, FutureWarning)\n"
     ]
    },
    {
     "name": "stdout",
     "output_type": "stream",
     "text": [
      "Fold: 0\n",
      "Performance: 0.47775829417128424\n",
      "Fold: 1\n",
      "Performance: 0.4992955762186531\n",
      "Fold: 2\n",
      "Performance: 0.4637426077161363\n",
      "Mean performance: 0.4802654927020245, Std performance: 0.014622310024745249\n",
      "Performance on unseen dataset: 0.49553649571153513\n"
     ]
    },
    {
     "data": {
      "text/plain": [
       "0.49553649571153513"
      ]
     },
     "execution_count": null,
     "metadata": {},
     "output_type": "execute_result"
    }
   ],
   "source": [
    "from sklearn.metrics import roc_auc_score\n",
    "\n",
    "split_args = {'test_size': 0.2, 'random_state': 41}\n",
    "\n",
    "model_args = {\n",
    "    'num_boost_round': 100,\n",
    "    'objective': 'binary',\n",
    "    'learning_rate': 0.1,\n",
    "    'num_leaves': 31,\n",
    "    'nthread': -1,\n",
    "    'seed': 41\n",
    "}\n",
    "\n",
    "# consider f4 to be the target variable in both the datasets\n",
    "tte = TrainTestSimilarity(cat_flds=[], \n",
    "                          ignore_flds=['f4'],\n",
    "                          perf_fn=roc_auc_score,\n",
    "                          split_args=split_args, \n",
    "                          model_args=model_args)\n",
    "tte.run(train, test)"
   ]
  },
  {
   "cell_type": "code",
   "execution_count": null,
   "metadata": {},
   "outputs": [],
   "source": []
  }
 ],
 "metadata": {
  "kernelspec": {
   "display_name": "ts",
   "language": "python",
   "name": "ts"
  }
 },
 "nbformat": 4,
 "nbformat_minor": 2
}
