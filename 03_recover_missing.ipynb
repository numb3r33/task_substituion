{
 "cells": [
  {
   "cell_type": "code",
   "execution_count": null,
   "metadata": {},
   "outputs": [],
   "source": [
    "#hide\n",
    "%reload_ext autoreload\n",
    "%autoreload 2"
   ]
  },
  {
   "cell_type": "code",
   "execution_count": null,
   "metadata": {},
   "outputs": [],
   "source": [
    "#export\n",
    "import pandas as pd\n",
    "import numpy as np\n",
    "\n",
    "from task_substitution.data import *\n",
    "from task_substitution.model import *\n",
    "from task_substitution.external_data import *"
   ]
  },
  {
   "cell_type": "code",
   "execution_count": null,
   "metadata": {},
   "outputs": [],
   "source": [
    "# default_exp recover_missing"
   ]
  },
  {
   "cell_type": "markdown",
   "metadata": {},
   "source": [
    "# Runner\n",
    "\n",
    "> Class that would take dataset and model args and recover missing values for a feature."
   ]
  },
  {
   "cell_type": "code",
   "execution_count": null,
   "metadata": {},
   "outputs": [],
   "source": [
    "#hide\n",
    "from nbdev.showdoc import *"
   ]
  },
  {
   "cell_type": "markdown",
   "metadata": {},
   "source": [
    "### Runner Class"
   ]
  },
  {
   "cell_type": "code",
   "execution_count": null,
   "metadata": {},
   "outputs": [],
   "source": [
    "#export\n",
    "class RecoverMissing:\n",
    "    \"\"\"Recover missing values for a feature using task substitution.\"\"\"\n",
    "    def __init__(self, target_fld:str, cat_flds:list=None, ignore_flds:list=None, **model_args):\n",
    "        self.dataset_args = {'target_fld': target_fld,\n",
    "                             'cat_flds': cat_flds,\n",
    "                             'ignore_flds': ignore_flds\n",
    "                            }\n",
    "        self.model_args = model_args\n",
    "        \n",
    "    def recover(self, X_train, y_train, X_test):\n",
    "        \n",
    "        perf_fn = self.model_args['perf_fn']\n",
    "        del self.model_args['perf_fn']\n",
    "        \n",
    "        model = Model(**self.model_args)\n",
    "        fold_runs = model.cv(X_train, y_train, perf_fn)\n",
    "        \n",
    "        self.trained_model = model.fit(X_train, y_train)\n",
    "        self.recovered_values = self.trained_model.predict(X_test)\n",
    "        \n",
    "        return fold_runs, self.recovered_values\n",
    "        \n",
    "    def run(self, df):\n",
    "        df_cpy = df.copy()\n",
    "        \n",
    "        # create dataset class\n",
    "        data = Dataset(df_cpy, **self.dataset_args)\n",
    "        \n",
    "        # label encode categorical variables\n",
    "        df_cpy = data.preprocess()\n",
    "        \n",
    "        # store original index so that we can reindex the dataframe later\n",
    "        # to preserve the index of the original dataframe.\n",
    "        orig_index_order = df_cpy.index \n",
    "        \n",
    "        # split the dataset into train and test based on missing values in the\n",
    "        # feature which we want to recover\n",
    "        train, test = Dataset.split_train_test(df_cpy, self.dataset_args['missing_fld'])\n",
    "        \n",
    "        # create target variable\n",
    "        y_train = train[self.dataset_args['missing_fld']]\n",
    "        X_train = train.drop(self.dataset_args['missing_fld'], axis=1)\n",
    "        \n",
    "        X_test = test.drop(self.dataset_args['missing_fld'], axis=1)\n",
    "        \n",
    "        # train model to recover missing values\n",
    "        fold_runs, y_test = self.recover(X_train, y_train, X_test)\n",
    "        self.fold_runs = fold_runs\n",
    "        \n",
    "        y_test = pd.Series(y_test, index=test.index)\n",
    "        \n",
    "        recovered_target = pd.concat([y_train, y_test]).reindex(orig_index_order)\n",
    "        df_cpy.loc[:, self.dataset_args['missing_fld']] = recovered_target\n",
    "        \n",
    "        return df_cpy"
   ]
  },
  {
   "cell_type": "markdown",
   "metadata": {},
   "source": [
    "### Usage"
   ]
  },
  {
   "cell_type": "code",
   "execution_count": null,
   "metadata": {},
   "outputs": [
    {
     "data": {
      "text/html": [
       "<div>\n",
       "<style scoped>\n",
       "    .dataframe tbody tr th:only-of-type {\n",
       "        vertical-align: middle;\n",
       "    }\n",
       "\n",
       "    .dataframe tbody tr th {\n",
       "        vertical-align: top;\n",
       "    }\n",
       "\n",
       "    .dataframe thead th {\n",
       "        text-align: right;\n",
       "    }\n",
       "</style>\n",
       "<table border=\"1\" class=\"dataframe\">\n",
       "  <thead>\n",
       "    <tr style=\"text-align: right;\">\n",
       "      <th></th>\n",
       "      <th>f1</th>\n",
       "      <th>f2</th>\n",
       "      <th>f3</th>\n",
       "    </tr>\n",
       "  </thead>\n",
       "  <tbody>\n",
       "    <tr>\n",
       "      <th>0</th>\n",
       "      <td>0.046903</td>\n",
       "      <td>0</td>\n",
       "      <td>0.642703</td>\n",
       "    </tr>\n",
       "    <tr>\n",
       "      <th>1</th>\n",
       "      <td>0.569416</td>\n",
       "      <td>1</td>\n",
       "      <td>0.265819</td>\n",
       "    </tr>\n",
       "    <tr>\n",
       "      <th>2</th>\n",
       "      <td>0.997847</td>\n",
       "      <td>1</td>\n",
       "      <td>0.590103</td>\n",
       "    </tr>\n",
       "    <tr>\n",
       "      <th>3</th>\n",
       "      <td>0.231654</td>\n",
       "      <td>0</td>\n",
       "      <td>0.463914</td>\n",
       "    </tr>\n",
       "    <tr>\n",
       "      <th>4</th>\n",
       "      <td>0.153110</td>\n",
       "      <td>1</td>\n",
       "      <td>0.414236</td>\n",
       "    </tr>\n",
       "  </tbody>\n",
       "</table>\n",
       "</div>"
      ],
      "text/plain": [
       "         f1  f2        f3\n",
       "0  0.046903   0  0.642703\n",
       "1  0.569416   1  0.265819\n",
       "2  0.997847   1  0.590103\n",
       "3  0.231654   0  0.463914\n",
       "4  0.153110   1  0.414236"
      ]
     },
     "execution_count": null,
     "metadata": {},
     "output_type": "execute_result"
    }
   ],
   "source": [
    "train = get_fake_data(); train.head()"
   ]
  },
  {
   "cell_type": "code",
   "execution_count": null,
   "metadata": {},
   "outputs": [
    {
     "data": {
      "text/plain": [
       "f3    0.02\n",
       "f2    0.00\n",
       "f1    0.00\n",
       "dtype: float64"
      ]
     },
     "execution_count": null,
     "metadata": {},
     "output_type": "execute_result"
    }
   ],
   "source": [
    "(train.isnull().sum() / len(train)).sort_values(ascending=False)"
   ]
  },
  {
   "cell_type": "code",
   "execution_count": null,
   "metadata": {},
   "outputs": [
    {
     "data": {
      "text/plain": [
       "f1    float64\n",
       "f2      int64\n",
       "f3    float64\n",
       "dtype: object"
      ]
     },
     "execution_count": null,
     "metadata": {},
     "output_type": "execute_result"
    }
   ],
   "source": [
    "train.dtypes"
   ]
  },
  {
   "cell_type": "markdown",
   "metadata": {},
   "source": [
    "### Adult Income Prediction Dataset"
   ]
  },
  {
   "cell_type": "code",
   "execution_count": null,
   "metadata": {},
   "outputs": [],
   "source": [
    "import lightgbm as lgb\n",
    "from sklearn.model_selection import KFold\n",
    "from sklearn.metrics import log_loss, accuracy_score, roc_auc_score, mean_squared_error\n",
    "\n",
    "def run(train, params, num_boost_round, impute=True):\n",
    "    \n",
    "    train_cpy = train.copy()\n",
    "    \n",
    "    y = train_cpy.f2\n",
    "    X = train_cpy.drop('f2', axis=1)\n",
    "    \n",
    "    kf = KFold(shuffle=True, random_state=41)\n",
    "    perfs = []\n",
    "    \n",
    "    for idx, (itr, ite) in enumerate(kf.split(X)):\n",
    "        Xtr, ytr = X.iloc[itr], y.iloc[itr]\n",
    "        Xval, yval = X.iloc[ite], y.iloc[ite]\n",
    "        \n",
    "        ltrain = lgb.Dataset(Xtr, ytr)\n",
    "        \n",
    "        model = lgb.train(params, ltrain, num_boost_round)\n",
    "        preds = model.predict(Xval)\n",
    "        \n",
    "        fold_perf = log_loss(yval, preds)\n",
    "        perfs.append(fold_perf)\n",
    "    \n",
    "    print(f'mean perf: {np.mean(perfs)}, std perf: {np.std(perfs)}')"
   ]
  },
  {
   "cell_type": "code",
   "execution_count": null,
   "metadata": {},
   "outputs": [
    {
     "name": "stderr",
     "output_type": "stream",
     "text": [
      "//anaconda3/lib/python3.7/site-packages/sklearn/model_selection/_split.py:431: FutureWarning: The default value of n_split will change from 3 to 5 in version 0.22. Specify it explicitly to silence this warning.\n",
      "  warnings.warn(NSPLIT_WARNING, FutureWarning)\n"
     ]
    },
    {
     "name": "stdout",
     "output_type": "stream",
     "text": [
      "mean perf: 0.8617958875357795, std perf: 0.014028989093387898\n"
     ]
    }
   ],
   "source": [
    "params = {'objective': 'binary',\n",
    "          'learning_rate': 0.1,\n",
    "          'num_leaves': 31,\n",
    "          'min_data_in_leaf': 20\n",
    "         }\n",
    "\n",
    "num_boost_round = 100\n",
    "run(train, params, num_boost_round)"
   ]
  },
  {
   "cell_type": "code",
   "execution_count": null,
   "metadata": {},
   "outputs": [
    {
     "name": "stderr",
     "output_type": "stream",
     "text": [
      "//anaconda3/lib/python3.7/site-packages/sklearn/model_selection/_split.py:431: FutureWarning: The default value of n_split will change from 3 to 5 in version 0.22. Specify it explicitly to silence this warning.\n",
      "  warnings.warn(NSPLIT_WARNING, FutureWarning)\n"
     ]
    },
    {
     "name": "stdout",
     "output_type": "stream",
     "text": [
      "Fold: 0\n",
      "Performance: 0.28837683157928873\n",
      "Fold: 1\n",
      "Performance: 0.2973838996314305\n",
      "Fold: 2\n",
      "Performance: 0.3018878616306113\n",
      "Mean performance: 0.2958828642804435, Std performance: 0.005617046294131228\n",
      "y_test  [0.54592897 0.50897151 0.39961943 0.46732401 0.53259094 0.63015683\n",
      " 0.5735691  0.55372939 0.43246685 0.43994847 0.5565569  0.64702419\n",
      " 0.48491624 0.5280441  0.46950199 0.40768427 0.4199819  0.54712394\n",
      " 0.49920951 0.57728937]\n"
     ]
    }
   ],
   "source": [
    "params = {'objective': 'regression',\n",
    "          'learning_rate': 0.1,\n",
    "          'num_leaves': 31,\n",
    "          'min_data_in_leaf': 40,\n",
    "          'num_boost_round': 100,\n",
    "          'perf_fn': lambda tr,pe: np.sqrt(mean_squared_error(tr, pe)),\n",
    "          'seed': 41\n",
    "         }\n",
    "\n",
    "rec = RecoverMissing(target_fld='f3',\n",
    "                     cat_flds=[],\n",
    "                     ignore_flds=['f2'],\n",
    "                     **params\n",
    "                    )\n",
    "\n",
    "train_sub = rec.run(train)"
   ]
  },
  {
   "cell_type": "markdown",
   "metadata": {},
   "source": [
    "`12.714812969371925, Std performance: 0.8771298233463387`"
   ]
  },
  {
   "cell_type": "code",
   "execution_count": null,
   "metadata": {},
   "outputs": [
    {
     "data": {
      "text/plain": [
       "(20, 0)"
      ]
     },
     "execution_count": null,
     "metadata": {},
     "output_type": "execute_result"
    }
   ],
   "source": [
    "train.f3.isnull().sum(), train_sub.f3.isnull().sum()"
   ]
  },
  {
   "cell_type": "code",
   "execution_count": null,
   "metadata": {},
   "outputs": [
    {
     "name": "stderr",
     "output_type": "stream",
     "text": [
      "//anaconda3/lib/python3.7/site-packages/sklearn/model_selection/_split.py:431: FutureWarning: The default value of n_split will change from 3 to 5 in version 0.22. Specify it explicitly to silence this warning.\n",
      "  warnings.warn(NSPLIT_WARNING, FutureWarning)\n"
     ]
    },
    {
     "name": "stdout",
     "output_type": "stream",
     "text": [
      "mean perf: 0.8472708470603166, std perf: 0.02556438712206216\n"
     ]
    }
   ],
   "source": [
    "params = {'objective': 'binary',\n",
    "          'learning_rate': 0.1,\n",
    "          'num_leaves': 31,\n",
    "          'min_data_in_leaf': 20\n",
    "         }\n",
    "\n",
    "num_boost_round = 100\n",
    "train_sub = train_sub.assign(f2=train.f2)\n",
    "run(train_sub, params, num_boost_round, impute=False)"
   ]
  },
  {
   "cell_type": "code",
   "execution_count": null,
   "metadata": {},
   "outputs": [],
   "source": []
  }
 ],
 "metadata": {
  "kernelspec": {
   "display_name": "ts",
   "language": "python",
   "name": "ts"
  }
 },
 "nbformat": 4,
 "nbformat_minor": 2
}
