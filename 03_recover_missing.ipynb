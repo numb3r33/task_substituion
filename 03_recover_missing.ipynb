{
 "cells": [
  {
   "cell_type": "code",
   "execution_count": null,
   "metadata": {},
   "outputs": [],
   "source": [
    "#hide\n",
    "%load_ext autoreload\n",
    "%autoreload 2"
   ]
  },
  {
   "cell_type": "code",
   "execution_count": null,
   "metadata": {},
   "outputs": [],
   "source": [
    "#export\n",
    "import pandas as pd\n",
    "import numpy as np\n",
    "\n",
    "from task_substitution.data import *\n",
    "from task_substitution.model import *"
   ]
  },
  {
   "cell_type": "code",
   "execution_count": null,
   "metadata": {},
   "outputs": [],
   "source": [
    "# default_exp recover_missing"
   ]
  },
  {
   "cell_type": "markdown",
   "metadata": {},
   "source": [
    "# Runner\n",
    "\n",
    "> Class that would take dataset and model args and recover missing values for a feature."
   ]
  },
  {
   "cell_type": "code",
   "execution_count": null,
   "metadata": {},
   "outputs": [],
   "source": [
    "#hide\n",
    "from nbdev.showdoc import *"
   ]
  },
  {
   "cell_type": "markdown",
   "metadata": {},
   "source": [
    "### Runner Class"
   ]
  },
  {
   "cell_type": "code",
   "execution_count": null,
   "metadata": {},
   "outputs": [],
   "source": [
    "#export\n",
    "class RecoverMissing:\n",
    "    \"\"\"Recover missing values for a feature using task substitution.\"\"\"\n",
    "    def __init__(self, missing_fld:str, cat_flds:list=None, ignore_flds:list=None, **model_args):\n",
    "        self.dataset_args = {'missing_fld': missing_fld,\n",
    "                             'cat_flds': cat_flds,\n",
    "                             'ignore_flds': ignore_flds\n",
    "                            }\n",
    "        self.model_args = model_args\n",
    "        \n",
    "    def recover(self, X_train, y_train, X_test):\n",
    "        \n",
    "        perf_fn = self.model_args['perf_fn']\n",
    "        del self.model_args['perf_fn']\n",
    "        \n",
    "        model = Model(**self.model_args)\n",
    "        fold_runs = model.cv(X_train, y_train, perf_fn)\n",
    "        \n",
    "        self.trained_model = model.fit(X_train, y_train)\n",
    "        self.recovered_values = self.trained_model.predict(X_test)\n",
    "        \n",
    "        return fold_runs, self.recovered_values\n",
    "        \n",
    "    def run(self, df):\n",
    "        df_cpy = df.copy()\n",
    "        \n",
    "        # create dataset class\n",
    "        data = Dataset(df_cpy, **self.dataset_args)\n",
    "        \n",
    "        # label encode categorical variables\n",
    "        df_cpy = data.preprocess()\n",
    "        \n",
    "        # store original index so that we can reindex the dataframe later\n",
    "        # to preserve the index of the original dataframe.\n",
    "        orig_index_order = df_cpy.index \n",
    "        \n",
    "        # split the dataset into train and test based on missing values in the\n",
    "        # feature which we want to recover\n",
    "        train, test = Dataset.split_train_test(df_cpy, self.dataset_args['missing_fld'])\n",
    "        \n",
    "        # create target variable\n",
    "        y_train = train[self.dataset_args['missing_fld']]\n",
    "        X_train = train.drop(self.dataset_args['missing_fld'], axis=1)\n",
    "        \n",
    "        \n",
    "        X_test = test.drop(self.dataset_args['missing_fld'], axis=1)\n",
    "        \n",
    "        # train model to recover missing values\n",
    "        fold_runs, y_test = self.recover(X_train, y_train, X_test)\n",
    "        self.fold_runs = fold_runs\n",
    "        \n",
    "        y_test = pd.Series(y_test, index=test.index)\n",
    "        \n",
    "        recovered_target = pd.concat([y_train, y_test]).reindex(orig_index_order)\n",
    "        df_cpy.loc[:, self.dataset_args['missing_fld']] = recovered_target\n",
    "        \n",
    "        return df_cpy"
   ]
  },
  {
   "cell_type": "code",
   "execution_count": null,
   "metadata": {},
   "outputs": [
    {
     "data": {
      "text/html": [
       "<div>\n",
       "<style scoped>\n",
       "    .dataframe tbody tr th:only-of-type {\n",
       "        vertical-align: middle;\n",
       "    }\n",
       "\n",
       "    .dataframe tbody tr th {\n",
       "        vertical-align: top;\n",
       "    }\n",
       "\n",
       "    .dataframe thead th {\n",
       "        text-align: right;\n",
       "    }\n",
       "</style>\n",
       "<table border=\"1\" class=\"dataframe\">\n",
       "  <thead>\n",
       "    <tr style=\"text-align: right;\">\n",
       "      <th></th>\n",
       "      <th>PassengerId</th>\n",
       "      <th>Survived</th>\n",
       "      <th>Pclass</th>\n",
       "      <th>Name</th>\n",
       "      <th>Sex</th>\n",
       "      <th>Age</th>\n",
       "      <th>SibSp</th>\n",
       "      <th>Parch</th>\n",
       "      <th>Ticket</th>\n",
       "      <th>Fare</th>\n",
       "      <th>Cabin</th>\n",
       "      <th>Embarked</th>\n",
       "    </tr>\n",
       "  </thead>\n",
       "  <tbody>\n",
       "    <tr>\n",
       "      <th>0</th>\n",
       "      <td>1</td>\n",
       "      <td>0</td>\n",
       "      <td>3</td>\n",
       "      <td>Braund, Mr. Owen Harris</td>\n",
       "      <td>male</td>\n",
       "      <td>22.0</td>\n",
       "      <td>1</td>\n",
       "      <td>0</td>\n",
       "      <td>A/5 21171</td>\n",
       "      <td>7.2500</td>\n",
       "      <td>NaN</td>\n",
       "      <td>S</td>\n",
       "    </tr>\n",
       "    <tr>\n",
       "      <th>1</th>\n",
       "      <td>2</td>\n",
       "      <td>1</td>\n",
       "      <td>1</td>\n",
       "      <td>Cumings, Mrs. John Bradley (Florence Briggs Th...</td>\n",
       "      <td>female</td>\n",
       "      <td>38.0</td>\n",
       "      <td>1</td>\n",
       "      <td>0</td>\n",
       "      <td>PC 17599</td>\n",
       "      <td>71.2833</td>\n",
       "      <td>C85</td>\n",
       "      <td>C</td>\n",
       "    </tr>\n",
       "    <tr>\n",
       "      <th>2</th>\n",
       "      <td>3</td>\n",
       "      <td>1</td>\n",
       "      <td>3</td>\n",
       "      <td>Heikkinen, Miss. Laina</td>\n",
       "      <td>female</td>\n",
       "      <td>26.0</td>\n",
       "      <td>0</td>\n",
       "      <td>0</td>\n",
       "      <td>STON/O2. 3101282</td>\n",
       "      <td>7.9250</td>\n",
       "      <td>NaN</td>\n",
       "      <td>S</td>\n",
       "    </tr>\n",
       "    <tr>\n",
       "      <th>3</th>\n",
       "      <td>4</td>\n",
       "      <td>1</td>\n",
       "      <td>1</td>\n",
       "      <td>Futrelle, Mrs. Jacques Heath (Lily May Peel)</td>\n",
       "      <td>female</td>\n",
       "      <td>35.0</td>\n",
       "      <td>1</td>\n",
       "      <td>0</td>\n",
       "      <td>113803</td>\n",
       "      <td>53.1000</td>\n",
       "      <td>C123</td>\n",
       "      <td>S</td>\n",
       "    </tr>\n",
       "    <tr>\n",
       "      <th>4</th>\n",
       "      <td>5</td>\n",
       "      <td>0</td>\n",
       "      <td>3</td>\n",
       "      <td>Allen, Mr. William Henry</td>\n",
       "      <td>male</td>\n",
       "      <td>35.0</td>\n",
       "      <td>0</td>\n",
       "      <td>0</td>\n",
       "      <td>373450</td>\n",
       "      <td>8.0500</td>\n",
       "      <td>NaN</td>\n",
       "      <td>S</td>\n",
       "    </tr>\n",
       "  </tbody>\n",
       "</table>\n",
       "</div>"
      ],
      "text/plain": [
       "   PassengerId  Survived  Pclass  \\\n",
       "0            1         0       3   \n",
       "1            2         1       1   \n",
       "2            3         1       3   \n",
       "3            4         1       1   \n",
       "4            5         0       3   \n",
       "\n",
       "                                                Name     Sex   Age  SibSp  \\\n",
       "0                            Braund, Mr. Owen Harris    male  22.0      1   \n",
       "1  Cumings, Mrs. John Bradley (Florence Briggs Th...  female  38.0      1   \n",
       "2                             Heikkinen, Miss. Laina  female  26.0      0   \n",
       "3       Futrelle, Mrs. Jacques Heath (Lily May Peel)  female  35.0      1   \n",
       "4                           Allen, Mr. William Henry    male  35.0      0   \n",
       "\n",
       "   Parch            Ticket     Fare Cabin Embarked  \n",
       "0      0         A/5 21171   7.2500   NaN        S  \n",
       "1      0          PC 17599  71.2833   C85        C  \n",
       "2      0  STON/O2. 3101282   7.9250   NaN        S  \n",
       "3      0            113803  53.1000  C123        S  \n",
       "4      0            373450   8.0500   NaN        S  "
      ]
     },
     "execution_count": null,
     "metadata": {},
     "output_type": "execute_result"
    }
   ],
   "source": [
    "train = pd.read_csv('./train.csv'); train.head()"
   ]
  },
  {
   "cell_type": "code",
   "execution_count": null,
   "metadata": {},
   "outputs": [
    {
     "data": {
      "text/plain": [
       "Cabin          0.771044\n",
       "Age            0.198653\n",
       "Embarked       0.002245\n",
       "Fare           0.000000\n",
       "Ticket         0.000000\n",
       "Parch          0.000000\n",
       "SibSp          0.000000\n",
       "Sex            0.000000\n",
       "Name           0.000000\n",
       "Pclass         0.000000\n",
       "Survived       0.000000\n",
       "PassengerId    0.000000\n",
       "dtype: float64"
      ]
     },
     "execution_count": null,
     "metadata": {},
     "output_type": "execute_result"
    }
   ],
   "source": [
    "(train.isnull().sum() / len(train)).sort_values(ascending=False)"
   ]
  },
  {
   "cell_type": "code",
   "execution_count": null,
   "metadata": {},
   "outputs": [
    {
     "data": {
      "text/plain": [
       "PassengerId      int64\n",
       "Survived         int64\n",
       "Pclass           int64\n",
       "Name            object\n",
       "Sex             object\n",
       "Age            float64\n",
       "SibSp            int64\n",
       "Parch            int64\n",
       "Ticket          object\n",
       "Fare           float64\n",
       "Cabin           object\n",
       "Embarked        object\n",
       "dtype: object"
      ]
     },
     "execution_count": null,
     "metadata": {},
     "output_type": "execute_result"
    }
   ],
   "source": [
    "train.dtypes"
   ]
  },
  {
   "cell_type": "markdown",
   "metadata": {},
   "source": [
    "### Titanic Dataset"
   ]
  },
  {
   "cell_type": "code",
   "execution_count": null,
   "metadata": {},
   "outputs": [],
   "source": [
    "import lightgbm as lgb\n",
    "from sklearn.model_selection import KFold\n",
    "from sklearn.metrics import log_loss, accuracy_score, roc_auc_score, mean_squared_error\n",
    "\n",
    "def run(train, params, num_boost_round, impute=True):\n",
    "    \n",
    "    train_cpy = train.copy()\n",
    "    \n",
    "    if impute:\n",
    "        # impute age with mean age\n",
    "        train_cpy.loc[:, 'Age'] = train_cpy.loc[:, 'Age'].fillna(train_cpy.loc[:, 'Age'].median())\n",
    "        train_cpy.drop(['Name', 'Cabin', 'Embarked'], axis=1, inplace=True)\n",
    "        \n",
    "        # label encode categorical features\n",
    "        train_cpy.loc[:, 'Sex'] = pd.Categorical(train_cpy['Sex']).codes + 1\n",
    "        train_cpy.loc[:, 'Ticket'] = pd.Categorical(train_cpy['Ticket']).codes + 1\n",
    "    \n",
    "    y = train_cpy.Survived\n",
    "    X = train_cpy.drop('Survived', axis=1)\n",
    "    \n",
    "    kf = KFold(shuffle=True, random_state=41)\n",
    "    perfs = []\n",
    "    \n",
    "    for idx, (itr, ite) in enumerate(kf.split(X)):\n",
    "        Xtr, ytr = X.iloc[itr], y.iloc[itr]\n",
    "        Xval, yval = X.iloc[ite], y.iloc[ite]\n",
    "        \n",
    "        ltrain = lgb.Dataset(Xtr, ytr)\n",
    "        \n",
    "        model = lgb.train(params, ltrain, num_boost_round)\n",
    "        preds = model.predict(Xval)\n",
    "        \n",
    "        fold_perf = log_loss(yval, preds)\n",
    "        perfs.append(fold_perf)\n",
    "    \n",
    "    print(f'mean perf: {np.mean(perfs)}, std perf: {np.std(perfs)}')"
   ]
  },
  {
   "cell_type": "code",
   "execution_count": null,
   "metadata": {},
   "outputs": [
    {
     "name": "stdout",
     "output_type": "stream",
     "text": [
      "mean perf: 0.49343807135220336, std perf: 0.060123682328008625\n"
     ]
    }
   ],
   "source": [
    "params = {'objective': 'binary',\n",
    "          'learning_rate': 0.1,\n",
    "          'num_leaves': 31,\n",
    "          'min_data_in_leaf': 20\n",
    "         }\n",
    "\n",
    "num_boost_round = 100\n",
    "run(train, params, num_boost_round)"
   ]
  },
  {
   "cell_type": "code",
   "execution_count": null,
   "metadata": {},
   "outputs": [
    {
     "name": "stdout",
     "output_type": "stream",
     "text": [
      "Fold: 0\n",
      "Performance: 13.32016503322026\n",
      "Fold: 1\n",
      "Performance: 13.298255677213394\n",
      "Fold: 2\n",
      "Performance: 12.525303338219395\n",
      "Fold: 3\n",
      "Performance: 12.145355484632868\n",
      "Fold: 4\n",
      "Performance: 14.12604364417034\n",
      "Mean performance: 13.08302463549125, Std performance: 0.6900326229858793\n"
     ]
    }
   ],
   "source": [
    "params = {'objective': 'regression',\n",
    "          'learning_rate': 0.1,\n",
    "          'num_leaves': 31,\n",
    "          'min_data_in_leaf': 40,\n",
    "          'num_boost_round': 100,\n",
    "          'feature_fraction': .4,\n",
    "          'perf_fn': lambda tr,pe: np.sqrt(mean_squared_error(tr, pe)),\n",
    "          'seed': 41\n",
    "         }\n",
    "\n",
    "rec = RecoverMissing(missing_fld='Age',\n",
    "                     cat_flds=['Sex', 'Ticket'],\n",
    "                     ignore_flds=['Name', 'Cabin', 'Embarked', 'Survived'],\n",
    "                     **params\n",
    "                    )\n",
    "\n",
    "train_sub = rec.run(train)"
   ]
  },
  {
   "cell_type": "markdown",
   "metadata": {},
   "source": [
    "`12.714812969371925, Std performance: 0.8771298233463387`"
   ]
  },
  {
   "cell_type": "code",
   "execution_count": null,
   "metadata": {},
   "outputs": [
    {
     "data": {
      "text/plain": [
       "(177, 0)"
      ]
     },
     "execution_count": null,
     "metadata": {},
     "output_type": "execute_result"
    }
   ],
   "source": [
    "train.Age.isnull().sum(), train_sub.Age.isnull().sum()"
   ]
  },
  {
   "cell_type": "code",
   "execution_count": null,
   "metadata": {},
   "outputs": [
    {
     "name": "stdout",
     "output_type": "stream",
     "text": [
      "mean perf: 0.4873832900634646, std perf: 0.06138390546947665\n"
     ]
    }
   ],
   "source": [
    "params = {'objective': 'binary',\n",
    "          'learning_rate': 0.1,\n",
    "          'num_leaves': 31,\n",
    "          'min_data_in_leaf': 20\n",
    "         }\n",
    "\n",
    "num_boost_round = 100\n",
    "train_sub = train_sub.assign(Survived=train.Survived)\n",
    "run(train_sub, params, num_boost_round, impute=False)"
   ]
  }
 ],
 "metadata": {
  "kernelspec": {
   "display_name": "ts",
   "language": "python",
   "name": "ts"
  }
 },
 "nbformat": 4,
 "nbformat_minor": 2
}
