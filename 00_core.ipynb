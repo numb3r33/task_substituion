{
 "cells": [
  {
   "cell_type": "code",
   "execution_count": null,
   "metadata": {},
   "outputs": [],
   "source": [
    "#export\n",
    "import pandas as pd\n",
    "import numpy as np\n",
    "\n",
    "import string"
   ]
  },
  {
   "cell_type": "code",
   "execution_count": null,
   "metadata": {},
   "outputs": [],
   "source": [
    "# default_exp core"
   ]
  },
  {
   "cell_type": "markdown",
   "metadata": {},
   "source": [
    "# module name here\n",
    "\n",
    "> API details."
   ]
  },
  {
   "cell_type": "code",
   "execution_count": null,
   "metadata": {},
   "outputs": [],
   "source": [
    "#hide\n",
    "from nbdev.showdoc import *"
   ]
  },
  {
   "cell_type": "markdown",
   "metadata": {},
   "source": [
    "### Basic foundations"
   ]
  },
  {
   "cell_type": "code",
   "execution_count": null,
   "metadata": {},
   "outputs": [],
   "source": [
    "# export\n",
    "def _pct_missing_values(feature:pd.Series)->float:\n",
    "    \"\"\"\n",
    "    Given a feature calculates percentage of missing values\n",
    "    \"\"\"\n",
    "    if not isinstance(feature, pd.Series): feature = pd.Series(feature)\n",
    "    return feature.isnull().sum() / len(feature) * 100"
   ]
  },
  {
   "cell_type": "code",
   "execution_count": null,
   "metadata": {},
   "outputs": [],
   "source": [
    "assert _pct_missing_values(pd.Series([1, np.nan, 2, 3])) == 25.0\n",
    "assert _pct_missing_values(pd.Series([1, 2, 3, 4])) == 0.0\n",
    "assert _pct_missing_values([1, 2, 3, 4]) == 0.0\n",
    "assert _pct_missing_values([1, np.nan, 3, 4]) == 25.0"
   ]
  },
  {
   "cell_type": "code",
   "execution_count": null,
   "metadata": {},
   "outputs": [],
   "source": [
    "#export\n",
    "def _preprocess_categorical(cat_feat:pd.Series)->np.ndarray:\n",
    "    \"\"\"\n",
    "    Given a categorical feature, label encode it.\n",
    "    \"\"\"\n",
    "    return pd.Categorical(cat_feat).codes + 1"
   ]
  },
  {
   "cell_type": "code",
   "execution_count": null,
   "metadata": {},
   "outputs": [],
   "source": [
    "example_df = pd.DataFrame({'c': ['a', 'b', 'a']})\n",
    "\n",
    "assert type(_preprocess_categorical(example_df['c'])) == np.ndarray\n",
    "assert all(_preprocess_categorical(example_df['c']) == pd.Series([1, 2, 1]))"
   ]
  },
  {
   "cell_type": "code",
   "execution_count": null,
   "metadata": {},
   "outputs": [],
   "source": [
    "#export\n",
    "def _ignore_flds(df:pd.DataFrame, ignore_flds:list)->pd.DataFrame:\n",
    "    \"\"\"\n",
    "    Given a dataframe and list of fields to ignore, this method would drop them from the dataframe\n",
    "    \"\"\"\n",
    "    df_cpy = df.copy()\n",
    "    df_cpy.drop(ignore_flds, axis=1, inplace=True)\n",
    "    return df_cpy"
   ]
  },
  {
   "cell_type": "code",
   "execution_count": null,
   "metadata": {},
   "outputs": [],
   "source": [
    "example_df = pd.DataFrame({'a': [1, 2, 3],\n",
    "                           'b': [3, 4, 1],\n",
    "                           'c': ['a', 'x', 'z']\n",
    "                          })\n",
    "\n",
    "assert type(_ignore_flds(example_df, ['a'])) == pd.DataFrame\n",
    "assert _ignore_flds(example_df, ['a']).shape[1] == 2\n",
    "assert _ignore_flds(example_df, ['a']).columns.tolist() == ['b', 'c']"
   ]
  },
  {
   "cell_type": "code",
   "execution_count": null,
   "metadata": {},
   "outputs": [],
   "source": [
    "#export\n",
    "class Dataset:\n",
    "    def __init__(self, df, **kwargs):\n",
    "        self.df = df\n",
    "        self.missing_fld = kwargs['missing_fld']\n",
    "        self.ignore_flds = kwargs['ignore_flds']\n",
    "        self.cat_cols = kwargs['cat_cols']\n",
    "        \n",
    "    @property\n",
    "    def target(self):\n",
    "        return self.missing_fld\n",
    "    \n",
    "    def remove_ignore_flds(self)->pd.DataFrame:\n",
    "        if self.ignore_flds is not None:\n",
    "            self.df = _ignore_flds(self.df, ignore_flds)\n",
    "        return self.df\n",
    "    \n",
    "    def preprocess_categorical(self)->pd.DataFrame:\n",
    "        cats = self.cat_cols if self.cat_cols else self.df.select_dtypes(include=['object']).columns\n",
    "        for c, v in self.df.loc[:, cats].items():\n",
    "            self.df.loc[:, c] = _preprocess_categorical(v)\n",
    "        return self.df\n",
    "    \n",
    "    def preprocess(self):\n",
    "        self.df = self.remove_ignore_flds()\n",
    "        self.df = self.preprocess_categorical()\n",
    "        return self.df"
   ]
  },
  {
   "cell_type": "code",
   "execution_count": null,
   "metadata": {},
   "outputs": [
    {
     "data": {
      "text/html": [
       "<div>\n",
       "<style scoped>\n",
       "    .dataframe tbody tr th:only-of-type {\n",
       "        vertical-align: middle;\n",
       "    }\n",
       "\n",
       "    .dataframe tbody tr th {\n",
       "        vertical-align: top;\n",
       "    }\n",
       "\n",
       "    .dataframe thead th {\n",
       "        text-align: right;\n",
       "    }\n",
       "</style>\n",
       "<table border=\"1\" class=\"dataframe\">\n",
       "  <thead>\n",
       "    <tr style=\"text-align: right;\">\n",
       "      <th></th>\n",
       "      <th>c1</th>\n",
       "      <th>c2</th>\n",
       "      <th>c3</th>\n",
       "    </tr>\n",
       "  </thead>\n",
       "  <tbody>\n",
       "    <tr>\n",
       "      <th>0</th>\n",
       "      <td>0.532222</td>\n",
       "      <td>b</td>\n",
       "      <td>0.549972</td>\n",
       "    </tr>\n",
       "    <tr>\n",
       "      <th>1</th>\n",
       "      <td>0.157428</td>\n",
       "      <td>j</td>\n",
       "      <td>NaN</td>\n",
       "    </tr>\n",
       "    <tr>\n",
       "      <th>2</th>\n",
       "      <td>0.732070</td>\n",
       "      <td>a</td>\n",
       "      <td>0.512227</td>\n",
       "    </tr>\n",
       "    <tr>\n",
       "      <th>3</th>\n",
       "      <td>0.731046</td>\n",
       "      <td>i</td>\n",
       "      <td>0.352248</td>\n",
       "    </tr>\n",
       "    <tr>\n",
       "      <th>4</th>\n",
       "      <td>0.913483</td>\n",
       "      <td>h</td>\n",
       "      <td>0.682245</td>\n",
       "    </tr>\n",
       "    <tr>\n",
       "      <th>5</th>\n",
       "      <td>0.338139</td>\n",
       "      <td>e</td>\n",
       "      <td>0.934327</td>\n",
       "    </tr>\n",
       "    <tr>\n",
       "      <th>6</th>\n",
       "      <td>0.506819</td>\n",
       "      <td>d</td>\n",
       "      <td>0.176334</td>\n",
       "    </tr>\n",
       "    <tr>\n",
       "      <th>7</th>\n",
       "      <td>0.314402</td>\n",
       "      <td>b</td>\n",
       "      <td>0.957635</td>\n",
       "    </tr>\n",
       "    <tr>\n",
       "      <th>8</th>\n",
       "      <td>0.181144</td>\n",
       "      <td>i</td>\n",
       "      <td>0.644976</td>\n",
       "    </tr>\n",
       "    <tr>\n",
       "      <th>9</th>\n",
       "      <td>0.351624</td>\n",
       "      <td>b</td>\n",
       "      <td>0.124792</td>\n",
       "    </tr>\n",
       "  </tbody>\n",
       "</table>\n",
       "</div>"
      ],
      "text/plain": [
       "         c1 c2        c3\n",
       "0  0.532222  b  0.549972\n",
       "1  0.157428  j       NaN\n",
       "2  0.732070  a  0.512227\n",
       "3  0.731046  i  0.352248\n",
       "4  0.913483  h  0.682245\n",
       "5  0.338139  e  0.934327\n",
       "6  0.506819  d  0.176334\n",
       "7  0.314402  b  0.957635\n",
       "8  0.181144  i  0.644976\n",
       "9  0.351624  b  0.124792"
      ]
     },
     "execution_count": null,
     "metadata": {},
     "output_type": "execute_result"
    }
   ],
   "source": [
    "example_df = pd.DataFrame({'c1': np.random.rand(10, ),\n",
    "                           'c2': [string.ascii_lowercase[np.random.randint(low=0, high=10)] for i in range(10)],\n",
    "                           'c3': np.random.permutation([np.nan] + list(np.random.rand(9, )))\n",
    "                          })\n",
    "example_df"
   ]
  },
  {
   "cell_type": "code",
   "execution_count": null,
   "metadata": {},
   "outputs": [],
   "source": [
    "data = Dataset(example_df, missing_fld='c3', cat_cols=['c2'], ignore_flds=None)\n",
    "# new_example_df = data.preprocess(); new_example_df"
   ]
  },
  {
   "cell_type": "code",
   "execution_count": null,
   "metadata": {},
   "outputs": [
    {
     "data": {
      "text/plain": [
       "'c3'"
      ]
     },
     "execution_count": null,
     "metadata": {},
     "output_type": "execute_result"
    }
   ],
   "source": []
  },
  {
   "cell_type": "code",
   "execution_count": null,
   "metadata": {},
   "outputs": [],
   "source": []
  },
  {
   "cell_type": "code",
   "execution_count": null,
   "metadata": {},
   "outputs": [],
   "source": []
  },
  {
   "cell_type": "code",
   "execution_count": null,
   "metadata": {},
   "outputs": [],
   "source": []
  }
 ],
 "metadata": {
  "kernelspec": {
   "display_name": "Python 3",
   "language": "python",
   "name": "python3"
  }
 },
 "nbformat": 4,
 "nbformat_minor": 2
}
