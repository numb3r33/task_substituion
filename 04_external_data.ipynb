{
 "cells": [
  {
   "cell_type": "code",
   "execution_count": null,
   "metadata": {},
   "outputs": [],
   "source": [
    "# default_exp external_data"
   ]
  },
  {
   "cell_type": "code",
   "execution_count": null,
   "metadata": {},
   "outputs": [],
   "source": [
    "#hide\n",
    "%reload_ext autoreload\n",
    "%autoreload 2"
   ]
  },
  {
   "cell_type": "code",
   "execution_count": null,
   "metadata": {},
   "outputs": [],
   "source": [
    "#export\n",
    "import pandas as pd\n",
    "import os\n",
    "import subprocess\n",
    "from pathlib import Path\n",
    "import tarfile\n",
    "import string\n",
    "import numpy as np"
   ]
  },
  {
   "cell_type": "markdown",
   "metadata": {},
   "source": [
    "# External Data\n",
    "\n",
    "> Basic utility functions used to download and store data for testing various tasks."
   ]
  },
  {
   "cell_type": "code",
   "execution_count": null,
   "metadata": {},
   "outputs": [],
   "source": [
    "#hide\n",
    "from nbdev.showdoc import *"
   ]
  },
  {
   "cell_type": "markdown",
   "metadata": {},
   "source": [
    "### Basic foundations"
   ]
  },
  {
   "cell_type": "code",
   "execution_count": null,
   "metadata": {},
   "outputs": [],
   "source": [
    "#export\n",
    "def download_data(path):\n",
    "    # URL to publicly available dataset\n",
    "    URL = 'http://files.fast.ai/data/examples/adult_sample.tgz -o data/sample.tgz'\n",
    "    \n",
    "    download_cmd = f\"curl {URL} -o {path}\"\n",
    "    subprocess.run(download_cmd, shell=True, check=True)"
   ]
  },
  {
   "cell_type": "code",
   "execution_count": null,
   "metadata": {},
   "outputs": [],
   "source": [
    "#export\n",
    "def untar_data():\n",
    "    # get current directory\n",
    "    LOCAL_DIR = Path.cwd()\n",
    "    \n",
    "    # create path to data folder including parents as well\n",
    "    Path.mkdir(LOCAL_DIR / 'data', exist_ok=True, parents=True)\n",
    "    \n",
    "    FILE_PATH = LOCAL_DIR / 'data' / 'sample.tgz'\n",
    "    if not FILE_PATH.exists(): download_data(FILE_PATH)\n",
    "    \n",
    "    tarfile.open(FILE_PATH).extractall(FILE_PATH.parent)\n",
    "    return LOCAL_DIR / 'data'"
   ]
  },
  {
   "cell_type": "code",
   "execution_count": null,
   "metadata": {},
   "outputs": [],
   "source": [
    "#export\n",
    "def get_fake_data_with_missing_values(size=1000, num_nans=20)->pd.DataFrame:\n",
    "    df = pd.DataFrame({'f1': np.random.rand(size, ),\n",
    "                       'f2': np.random.randint(low=0, high=2, size=size),\n",
    "                       'f3': np.random.permutation([np.nan] * num_nans + list(np.random.rand(size - num_nans, )))\n",
    "                      })\n",
    "    \n",
    "    return df"
   ]
  },
  {
   "cell_type": "code",
   "execution_count": null,
   "metadata": {},
   "outputs": [],
   "source": [
    "#export\n",
    "def get_fake_numeric_data(ncols=5, size=1000)->pd.DataFrame:\n",
    "    return pd.DataFrame({f'f{i}':np.random.rand(size, ) for i in range(ncols)})"
   ]
  }
 ],
 "metadata": {
  "kernelspec": {
   "display_name": "ts",
   "language": "python",
   "name": "ts"
  }
 },
 "nbformat": 4,
 "nbformat_minor": 2
}
